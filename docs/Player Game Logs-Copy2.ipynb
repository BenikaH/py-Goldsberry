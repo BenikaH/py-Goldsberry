{
 "cells": [
  {
   "cell_type": "code",
   "execution_count": 1,
   "metadata": {
    "collapsed": false,
    "hide_input": true,
    "init_cell": true
   },
   "outputs": [
    {
     "data": {
      "text/html": [
       "<style>.container { width:90% !important; }</style>"
      ],
      "text/plain": [
       "<IPython.core.display.HTML object>"
      ]
     },
     "execution_count": 1,
     "metadata": {},
     "output_type": "execute_result"
    }
   ],
   "source": [
    "from IPython.core.display import HTML\n",
    "HTML(\"<style>.container { width:90% !important; }</style>\")"
   ]
  },
  {
   "cell_type": "markdown",
   "metadata": {},
   "source": [
    "Py-Goldsberry - Player-Level Box Score Data\n",
    "===\n",
    "\n",
    "This tutorial walks through using the py-goldsberry package to collect box score data at the player level.\n",
    "\n",
    "To get started, we need to import py-goldsberry and we're going to go ahead import pandas so we can explore the data quickly once we have it collected."
   ]
  },
  {
   "cell_type": "code",
   "execution_count": 2,
   "metadata": {
    "collapsed": false,
    "init_cell": true
   },
   "outputs": [
    {
     "data": {
      "text/plain": [
       "'0.8.0.1'"
      ]
     },
     "execution_count": 2,
     "metadata": {},
     "output_type": "execute_result"
    }
   ],
   "source": [
    "from __future__ import division\n",
    "\n",
    "import goldsberry\n",
    "import pandas as pd\n",
    "pd.options.display.max_columns = 100\n",
    "pd.options.display.max_rows = 100\n",
    "goldsberry.__version__"
   ]
  },
  {
   "cell_type": "markdown",
   "metadata": {},
   "source": [
    "## Getting List of All Games"
   ]
  },
  {
   "cell_type": "code",
   "execution_count": 3,
   "metadata": {
    "collapsed": false
   },
   "outputs": [],
   "source": [
    "game_list = goldsberry.GameIDs()"
   ]
  },
  {
   "cell_type": "code",
   "execution_count": 4,
   "metadata": {
    "collapsed": false
   },
   "outputs": [],
   "source": [
    "df_games = pd.DataFrame(game_list.game_list())"
   ]
  },
  {
   "cell_type": "code",
   "execution_count": 5,
   "metadata": {
    "collapsed": false,
    "scrolled": true
   },
   "outputs": [
    {
     "data": {
      "text/html": [
       "<div>\n",
       "<table border=\"1\" class=\"dataframe\">\n",
       "  <thead>\n",
       "    <tr style=\"text-align: right;\">\n",
       "      <th></th>\n",
       "      <th>AST</th>\n",
       "      <th>BLK</th>\n",
       "      <th>DREB</th>\n",
       "      <th>FG3A</th>\n",
       "      <th>FG3M</th>\n",
       "      <th>FG3_PCT</th>\n",
       "      <th>FGA</th>\n",
       "      <th>FGM</th>\n",
       "      <th>FG_PCT</th>\n",
       "      <th>FTA</th>\n",
       "      <th>FTM</th>\n",
       "      <th>FT_PCT</th>\n",
       "      <th>GAME_DATE</th>\n",
       "      <th>GAME_ID</th>\n",
       "      <th>MATCHUP</th>\n",
       "      <th>MIN</th>\n",
       "      <th>OREB</th>\n",
       "      <th>PF</th>\n",
       "      <th>PLUS_MINUS</th>\n",
       "      <th>PTS</th>\n",
       "      <th>REB</th>\n",
       "      <th>SEASON_ID</th>\n",
       "      <th>STL</th>\n",
       "      <th>TEAM_ABBREVIATION</th>\n",
       "      <th>TEAM_ID</th>\n",
       "      <th>TEAM_NAME</th>\n",
       "      <th>TOV</th>\n",
       "      <th>VIDEO_AVAILABLE</th>\n",
       "      <th>WL</th>\n",
       "    </tr>\n",
       "  </thead>\n",
       "  <tbody>\n",
       "    <tr>\n",
       "      <th>0</th>\n",
       "      <td>28</td>\n",
       "      <td>4</td>\n",
       "      <td>45</td>\n",
       "      <td>29</td>\n",
       "      <td>8</td>\n",
       "      <td>0.276</td>\n",
       "      <td>124</td>\n",
       "      <td>56</td>\n",
       "      <td>0.452</td>\n",
       "      <td>46</td>\n",
       "      <td>27</td>\n",
       "      <td>0.587</td>\n",
       "      <td>2015-12-18</td>\n",
       "      <td>0021500391</td>\n",
       "      <td>DET @ CHI</td>\n",
       "      <td>340</td>\n",
       "      <td>19</td>\n",
       "      <td>35</td>\n",
       "      <td>3</td>\n",
       "      <td>147</td>\n",
       "      <td>64</td>\n",
       "      <td>22015</td>\n",
       "      <td>7</td>\n",
       "      <td>DET</td>\n",
       "      <td>1610612765</td>\n",
       "      <td>Detroit Pistons</td>\n",
       "      <td>11</td>\n",
       "      <td>1</td>\n",
       "      <td>W</td>\n",
       "    </tr>\n",
       "    <tr>\n",
       "      <th>1</th>\n",
       "      <td>35</td>\n",
       "      <td>4</td>\n",
       "      <td>34</td>\n",
       "      <td>25</td>\n",
       "      <td>13</td>\n",
       "      <td>0.520</td>\n",
       "      <td>88</td>\n",
       "      <td>53</td>\n",
       "      <td>0.602</td>\n",
       "      <td>16</td>\n",
       "      <td>11</td>\n",
       "      <td>0.688</td>\n",
       "      <td>2016-02-25</td>\n",
       "      <td>0021500855</td>\n",
       "      <td>GSW @ ORL</td>\n",
       "      <td>240</td>\n",
       "      <td>8</td>\n",
       "      <td>21</td>\n",
       "      <td>16</td>\n",
       "      <td>130</td>\n",
       "      <td>42</td>\n",
       "      <td>22015</td>\n",
       "      <td>9</td>\n",
       "      <td>GSW</td>\n",
       "      <td>1610612744</td>\n",
       "      <td>Golden State Warriors</td>\n",
       "      <td>21</td>\n",
       "      <td>1</td>\n",
       "      <td>W</td>\n",
       "    </tr>\n",
       "    <tr>\n",
       "      <th>2</th>\n",
       "      <td>30</td>\n",
       "      <td>2</td>\n",
       "      <td>36</td>\n",
       "      <td>23</td>\n",
       "      <td>9</td>\n",
       "      <td>0.391</td>\n",
       "      <td>87</td>\n",
       "      <td>53</td>\n",
       "      <td>0.609</td>\n",
       "      <td>34</td>\n",
       "      <td>27</td>\n",
       "      <td>0.794</td>\n",
       "      <td>2016-01-02</td>\n",
       "      <td>0021500496</td>\n",
       "      <td>SAC vs. PHX</td>\n",
       "      <td>240</td>\n",
       "      <td>10</td>\n",
       "      <td>23</td>\n",
       "      <td>23</td>\n",
       "      <td>142</td>\n",
       "      <td>46</td>\n",
       "      <td>22015</td>\n",
       "      <td>9</td>\n",
       "      <td>SAC</td>\n",
       "      <td>1610612758</td>\n",
       "      <td>Sacramento Kings</td>\n",
       "      <td>15</td>\n",
       "      <td>1</td>\n",
       "      <td>W</td>\n",
       "    </tr>\n",
       "    <tr>\n",
       "      <th>3</th>\n",
       "      <td>36</td>\n",
       "      <td>8</td>\n",
       "      <td>26</td>\n",
       "      <td>18</td>\n",
       "      <td>10</td>\n",
       "      <td>0.556</td>\n",
       "      <td>76</td>\n",
       "      <td>52</td>\n",
       "      <td>0.684</td>\n",
       "      <td>22</td>\n",
       "      <td>18</td>\n",
       "      <td>0.818</td>\n",
       "      <td>2016-03-05</td>\n",
       "      <td>0021500926</td>\n",
       "      <td>MIN vs. BKN</td>\n",
       "      <td>240</td>\n",
       "      <td>4</td>\n",
       "      <td>26</td>\n",
       "      <td>14</td>\n",
       "      <td>132</td>\n",
       "      <td>30</td>\n",
       "      <td>22015</td>\n",
       "      <td>8</td>\n",
       "      <td>MIN</td>\n",
       "      <td>1610612750</td>\n",
       "      <td>Minnesota Timberwolves</td>\n",
       "      <td>12</td>\n",
       "      <td>1</td>\n",
       "      <td>W</td>\n",
       "    </tr>\n",
       "    <tr>\n",
       "      <th>4</th>\n",
       "      <td>28</td>\n",
       "      <td>11</td>\n",
       "      <td>34</td>\n",
       "      <td>12</td>\n",
       "      <td>6</td>\n",
       "      <td>0.500</td>\n",
       "      <td>77</td>\n",
       "      <td>52</td>\n",
       "      <td>0.675</td>\n",
       "      <td>25</td>\n",
       "      <td>19</td>\n",
       "      <td>0.760</td>\n",
       "      <td>2016-03-01</td>\n",
       "      <td>0021500892</td>\n",
       "      <td>MIA vs. CHI</td>\n",
       "      <td>240</td>\n",
       "      <td>4</td>\n",
       "      <td>23</td>\n",
       "      <td>18</td>\n",
       "      <td>129</td>\n",
       "      <td>38</td>\n",
       "      <td>22015</td>\n",
       "      <td>5</td>\n",
       "      <td>MIA</td>\n",
       "      <td>1610612748</td>\n",
       "      <td>Miami Heat</td>\n",
       "      <td>15</td>\n",
       "      <td>1</td>\n",
       "      <td>W</td>\n",
       "    </tr>\n",
       "  </tbody>\n",
       "</table>\n",
       "</div>"
      ],
      "text/plain": [
       "   AST  BLK  DREB  FG3A  FG3M  FG3_PCT  FGA  FGM  FG_PCT  FTA  FTM  FT_PCT  \\\n",
       "0   28    4    45    29     8    0.276  124   56   0.452   46   27   0.587   \n",
       "1   35    4    34    25    13    0.520   88   53   0.602   16   11   0.688   \n",
       "2   30    2    36    23     9    0.391   87   53   0.609   34   27   0.794   \n",
       "3   36    8    26    18    10    0.556   76   52   0.684   22   18   0.818   \n",
       "4   28   11    34    12     6    0.500   77   52   0.675   25   19   0.760   \n",
       "\n",
       "    GAME_DATE     GAME_ID      MATCHUP  MIN  OREB  PF  PLUS_MINUS  PTS  REB  \\\n",
       "0  2015-12-18  0021500391    DET @ CHI  340    19  35           3  147   64   \n",
       "1  2016-02-25  0021500855    GSW @ ORL  240     8  21          16  130   42   \n",
       "2  2016-01-02  0021500496  SAC vs. PHX  240    10  23          23  142   46   \n",
       "3  2016-03-05  0021500926  MIN vs. BKN  240     4  26          14  132   30   \n",
       "4  2016-03-01  0021500892  MIA vs. CHI  240     4  23          18  129   38   \n",
       "\n",
       "  SEASON_ID  STL TEAM_ABBREVIATION     TEAM_ID               TEAM_NAME  TOV  \\\n",
       "0     22015    7               DET  1610612765         Detroit Pistons   11   \n",
       "1     22015    9               GSW  1610612744   Golden State Warriors   21   \n",
       "2     22015    9               SAC  1610612758        Sacramento Kings   15   \n",
       "3     22015    8               MIN  1610612750  Minnesota Timberwolves   12   \n",
       "4     22015    5               MIA  1610612748              Miami Heat   15   \n",
       "\n",
       "   VIDEO_AVAILABLE WL  \n",
       "0                1  W  \n",
       "1                1  W  \n",
       "2                1  W  \n",
       "3                1  W  \n",
       "4                1  W  "
      ]
     },
     "execution_count": 5,
     "metadata": {},
     "output_type": "execute_result"
    }
   ],
   "source": [
    "df_games.head()"
   ]
  },
  {
   "cell_type": "code",
   "execution_count": 7,
   "metadata": {
    "collapsed": true
   },
   "outputs": [],
   "source": [
    "team_cols = ['TEAM_ID','TEAM_NAME','TEAM_ABBREVIATION','SEASON_ID',\n",
    "             'GAME_DATE','GAME_ID','MATCHUP','WL',\n",
    "             'PTS','REB','STL','TOV','AST','BLK','DREB','FG3A','FG3M',\n",
    "             'FG3_PCT','FGA','FGM','FG_PCT','FTA','FTM','FT_PCT','MIN',\n",
    "             'OREB','PF','PLUS_MINUS','VIDEO_AVAILABLE']\n",
    "\n",
    "df_games = df_games[team_cols]"
   ]
  },
  {
   "cell_type": "markdown",
   "metadata": {},
   "source": [
    "## Getting Player Level Data"
   ]
  },
  {
   "cell_type": "code",
   "execution_count": 8,
   "metadata": {
    "collapsed": true
   },
   "outputs": [],
   "source": [
    "player_list = goldsberry.PlayerList()"
   ]
  },
  {
   "cell_type": "code",
   "execution_count": 9,
   "metadata": {
    "collapsed": true
   },
   "outputs": [],
   "source": [
    "df_players = pd.DataFrame(player_list.players())"
   ]
  },
  {
   "cell_type": "code",
   "execution_count": 10,
   "metadata": {
    "collapsed": false
   },
   "outputs": [
    {
     "data": {
      "text/html": [
       "<div>\n",
       "<table border=\"1\" class=\"dataframe\">\n",
       "  <thead>\n",
       "    <tr style=\"text-align: right;\">\n",
       "      <th></th>\n",
       "      <th>DISPLAY_FIRST_LAST</th>\n",
       "      <th>DISPLAY_LAST_COMMA_FIRST</th>\n",
       "      <th>FROM_YEAR</th>\n",
       "      <th>GAMES_PLAYED_FLAG</th>\n",
       "      <th>PERSON_ID</th>\n",
       "      <th>PLAYERCODE</th>\n",
       "      <th>ROSTERSTATUS</th>\n",
       "      <th>TEAM_ABBREVIATION</th>\n",
       "      <th>TEAM_CITY</th>\n",
       "      <th>TEAM_CODE</th>\n",
       "      <th>TEAM_ID</th>\n",
       "      <th>TEAM_NAME</th>\n",
       "      <th>TO_YEAR</th>\n",
       "    </tr>\n",
       "  </thead>\n",
       "  <tbody>\n",
       "    <tr>\n",
       "      <th>0</th>\n",
       "      <td>Quincy Acy</td>\n",
       "      <td>Acy, Quincy</td>\n",
       "      <td>2012</td>\n",
       "      <td>Y</td>\n",
       "      <td>203112</td>\n",
       "      <td>quincy_acy</td>\n",
       "      <td>1</td>\n",
       "      <td>SAC</td>\n",
       "      <td>Sacramento</td>\n",
       "      <td>kings</td>\n",
       "      <td>1610612758</td>\n",
       "      <td>Kings</td>\n",
       "      <td>2015</td>\n",
       "    </tr>\n",
       "    <tr>\n",
       "      <th>1</th>\n",
       "      <td>Jordan Adams</td>\n",
       "      <td>Adams, Jordan</td>\n",
       "      <td>2014</td>\n",
       "      <td>Y</td>\n",
       "      <td>203919</td>\n",
       "      <td>jordan_adams</td>\n",
       "      <td>1</td>\n",
       "      <td>MEM</td>\n",
       "      <td>Memphis</td>\n",
       "      <td>grizzlies</td>\n",
       "      <td>1610612763</td>\n",
       "      <td>Grizzlies</td>\n",
       "      <td>2015</td>\n",
       "    </tr>\n",
       "    <tr>\n",
       "      <th>2</th>\n",
       "      <td>Steven Adams</td>\n",
       "      <td>Adams, Steven</td>\n",
       "      <td>2013</td>\n",
       "      <td>Y</td>\n",
       "      <td>203500</td>\n",
       "      <td>steven_adams</td>\n",
       "      <td>1</td>\n",
       "      <td>OKC</td>\n",
       "      <td>Oklahoma City</td>\n",
       "      <td>thunder</td>\n",
       "      <td>1610612760</td>\n",
       "      <td>Thunder</td>\n",
       "      <td>2015</td>\n",
       "    </tr>\n",
       "    <tr>\n",
       "      <th>3</th>\n",
       "      <td>Arron Afflalo</td>\n",
       "      <td>Afflalo, Arron</td>\n",
       "      <td>2007</td>\n",
       "      <td>Y</td>\n",
       "      <td>201167</td>\n",
       "      <td>arron_afflalo</td>\n",
       "      <td>1</td>\n",
       "      <td>NYK</td>\n",
       "      <td>New York</td>\n",
       "      <td>knicks</td>\n",
       "      <td>1610612752</td>\n",
       "      <td>Knicks</td>\n",
       "      <td>2015</td>\n",
       "    </tr>\n",
       "    <tr>\n",
       "      <th>4</th>\n",
       "      <td>Alexis Ajinca</td>\n",
       "      <td>Ajinca, Alexis</td>\n",
       "      <td>2008</td>\n",
       "      <td>Y</td>\n",
       "      <td>201582</td>\n",
       "      <td>alexis_ajinca</td>\n",
       "      <td>1</td>\n",
       "      <td>NOP</td>\n",
       "      <td>New Orleans</td>\n",
       "      <td>pelicans</td>\n",
       "      <td>1610612740</td>\n",
       "      <td>Pelicans</td>\n",
       "      <td>2015</td>\n",
       "    </tr>\n",
       "  </tbody>\n",
       "</table>\n",
       "</div>"
      ],
      "text/plain": [
       "  DISPLAY_FIRST_LAST DISPLAY_LAST_COMMA_FIRST FROM_YEAR GAMES_PLAYED_FLAG  \\\n",
       "0         Quincy Acy              Acy, Quincy      2012                 Y   \n",
       "1       Jordan Adams            Adams, Jordan      2014                 Y   \n",
       "2       Steven Adams            Adams, Steven      2013                 Y   \n",
       "3      Arron Afflalo           Afflalo, Arron      2007                 Y   \n",
       "4      Alexis Ajinca           Ajinca, Alexis      2008                 Y   \n",
       "\n",
       "   PERSON_ID     PLAYERCODE  ROSTERSTATUS TEAM_ABBREVIATION      TEAM_CITY  \\\n",
       "0     203112     quincy_acy             1               SAC     Sacramento   \n",
       "1     203919   jordan_adams             1               MEM        Memphis   \n",
       "2     203500   steven_adams             1               OKC  Oklahoma City   \n",
       "3     201167  arron_afflalo             1               NYK       New York   \n",
       "4     201582  alexis_ajinca             1               NOP    New Orleans   \n",
       "\n",
       "   TEAM_CODE     TEAM_ID  TEAM_NAME TO_YEAR  \n",
       "0      kings  1610612758      Kings    2015  \n",
       "1  grizzlies  1610612763  Grizzlies    2015  \n",
       "2    thunder  1610612760    Thunder    2015  \n",
       "3     knicks  1610612752     Knicks    2015  \n",
       "4   pelicans  1610612740   Pelicans    2015  "
      ]
     },
     "execution_count": 10,
     "metadata": {},
     "output_type": "execute_result"
    }
   ],
   "source": [
    "df_players.head()"
   ]
  },
  {
   "cell_type": "markdown",
   "metadata": {},
   "source": [
    "## Getting game logs for the entire league\n",
    "\n",
    "Now that we know how to get the game log data for a single person, we can combine that knowledge with information in the `df_players` to loop through the entire league and create a dataset of player-level game logs for the entire league.\n",
    "\n",
    "To do this, we're going to iterate over the `PERSON_ID` column in our `df_players`. We're going to save the results of each iteration to an ever expanding list, `league_logs`. Once we're done with the loop, we're going to convert it to a dataframe. "
   ]
  },
  {
   "cell_type": "code",
   "execution_count": 11,
   "metadata": {
    "collapsed": true
   },
   "outputs": [],
   "source": [
    "league_logs = []\n",
    "for _ , pid in df_players.PERSON_ID.iteritems():\n",
    "    player_log = goldsberry.player.game_logs(pid)\n",
    "    league_logs[0:0] = player_log.logs()\n",
    "\n",
    "df_gamelogs = pd.DataFrame(league_logs)"
   ]
  },
  {
   "cell_type": "markdown",
   "metadata": {},
   "source": [
    "Because we don't remember all of the Player's names by their ID, we're going to use our `df_players` data frame to append the appropriate name and team to the game log data. Finally, we're going to rearrange the columns because it doesn't make sense to keep them in alphabetical order. The table will be easier to understand if it's in some reasonable order given the nature of the data. "
   ]
  },
  {
   "cell_type": "code",
   "execution_count": 12,
   "metadata": {
    "collapsed": true
   },
   "outputs": [],
   "source": [
    "df_gamelogs = pd.merge(df_gamelogs, df_players.loc[:,['DISPLAY_FIRST_LAST', 'PERSON_ID']], left_on = 'Player_ID', right_on='PERSON_ID')"
   ]
  },
  {
   "cell_type": "code",
   "execution_count": 13,
   "metadata": {
    "collapsed": false
   },
   "outputs": [],
   "source": [
    "col_order = ['Player_ID','DISPLAY_FIRST_LAST',\n",
    "             'SEASON_ID','GAME_DATE','Game_ID','MATCHUP','WL',\n",
    "             'PTS','REB','STL','TOV','AST','BLK','DREB','FG3A','FG3M',\n",
    "             'FG3_PCT','FGA','FGM','FG_PCT','FTA','FTM','FT_PCT','MIN',\n",
    "             'OREB','PF','PLUS_MINUS','VIDEO_AVAILABLE']\n",
    "df_gamelogs = df_gamelogs[col_order]"
   ]
  }
 ],
 "metadata": {
  "kernelspec": {
   "display_name": "Python 2",
   "language": "python",
   "name": "python2"
  },
  "language_info": {
   "codemirror_mode": {
    "name": "ipython",
    "version": 2
   },
   "file_extension": ".py",
   "mimetype": "text/x-python",
   "name": "python",
   "nbconvert_exporter": "python",
   "pygments_lexer": "ipython2",
   "version": "2.7.11"
  }
 },
 "nbformat": 4,
 "nbformat_minor": 0
}
