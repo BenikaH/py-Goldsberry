{
 "cells": [
  {
   "cell_type": "code",
   "execution_count": 1,
   "metadata": {
    "collapsed": false
   },
   "outputs": [
    {
     "data": {
      "text/plain": [
       "'0.8.0.1'"
      ]
     },
     "execution_count": 1,
     "metadata": {},
     "output_type": "execute_result"
    }
   ],
   "source": [
    "# Steph Curry Stats along with Shooting Visualization\n",
    "# Thanks to rockstar data scientist Mr. Brad Fay\n",
    "# Cheers!\n",
    "\n",
    "import goldsberry.game\n",
    "import goldsberry.league\n",
    "import goldsberry\n",
    "import goldsberry.player\n",
    "import goldsberry.team\n",
    "import goldsberry.draft\n",
    "import goldsberry.playtype\n",
    "import goldsberry.sportvu\n",
    "from goldsberry.player._Player2 import PlayerList\n",
    "from goldsberry.game._Game2 import GameIDs\n",
    "import pandas as pd\n",
    "import numpy as np\n",
    "from scipy.stats import binned_statistic_2d\n",
    "import seaborn as sns\n",
    "from bokeh.plotting import figure\n",
    "from math import pi\n",
    "%matplotlib inline\n",
    "import urllib\n",
    "import matplotlib.pyplot as plt\n",
    "from matplotlib.patches import Circle, Rectangle, Arc\n",
    "pd.set_option(\"display.max_columns\", 50)\n",
    "pd.options.mode.chained_assignment = None \n",
    "urllib.__version__\n",
    "goldsberry.__version__"
   ]
  },
  {
   "cell_type": "code",
   "execution_count": 2,
   "metadata": {
    "collapsed": false
   },
   "outputs": [
    {
     "data": {
      "text/html": [
       "<div>\n",
       "<table border=\"1\" class=\"dataframe\">\n",
       "  <thead>\n",
       "    <tr style=\"text-align: right;\">\n",
       "      <th></th>\n",
       "      <th>DISPLAY_FIRST_LAST</th>\n",
       "      <th>DISPLAY_LAST_COMMA_FIRST</th>\n",
       "      <th>FROM_YEAR</th>\n",
       "      <th>GAMES_PLAYED_FLAG</th>\n",
       "      <th>PERSON_ID</th>\n",
       "      <th>PLAYERCODE</th>\n",
       "      <th>ROSTERSTATUS</th>\n",
       "      <th>TEAM_ABBREVIATION</th>\n",
       "      <th>TEAM_CITY</th>\n",
       "      <th>TEAM_CODE</th>\n",
       "      <th>TEAM_ID</th>\n",
       "      <th>TEAM_NAME</th>\n",
       "      <th>TO_YEAR</th>\n",
       "    </tr>\n",
       "  </thead>\n",
       "  <tbody>\n",
       "    <tr>\n",
       "      <th>0</th>\n",
       "      <td>Quincy Acy</td>\n",
       "      <td>Acy, Quincy</td>\n",
       "      <td>2012</td>\n",
       "      <td>Y</td>\n",
       "      <td>203112</td>\n",
       "      <td>quincy_acy</td>\n",
       "      <td>1</td>\n",
       "      <td>SAC</td>\n",
       "      <td>Sacramento</td>\n",
       "      <td>kings</td>\n",
       "      <td>1610612758</td>\n",
       "      <td>Kings</td>\n",
       "      <td>2015</td>\n",
       "    </tr>\n",
       "    <tr>\n",
       "      <th>1</th>\n",
       "      <td>Jordan Adams</td>\n",
       "      <td>Adams, Jordan</td>\n",
       "      <td>2014</td>\n",
       "      <td>Y</td>\n",
       "      <td>203919</td>\n",
       "      <td>jordan_adams</td>\n",
       "      <td>1</td>\n",
       "      <td>MEM</td>\n",
       "      <td>Memphis</td>\n",
       "      <td>grizzlies</td>\n",
       "      <td>1610612763</td>\n",
       "      <td>Grizzlies</td>\n",
       "      <td>2015</td>\n",
       "    </tr>\n",
       "    <tr>\n",
       "      <th>2</th>\n",
       "      <td>Steven Adams</td>\n",
       "      <td>Adams, Steven</td>\n",
       "      <td>2013</td>\n",
       "      <td>Y</td>\n",
       "      <td>203500</td>\n",
       "      <td>steven_adams</td>\n",
       "      <td>1</td>\n",
       "      <td>OKC</td>\n",
       "      <td>Oklahoma City</td>\n",
       "      <td>thunder</td>\n",
       "      <td>1610612760</td>\n",
       "      <td>Thunder</td>\n",
       "      <td>2015</td>\n",
       "    </tr>\n",
       "    <tr>\n",
       "      <th>3</th>\n",
       "      <td>Arron Afflalo</td>\n",
       "      <td>Afflalo, Arron</td>\n",
       "      <td>2007</td>\n",
       "      <td>Y</td>\n",
       "      <td>201167</td>\n",
       "      <td>arron_afflalo</td>\n",
       "      <td>1</td>\n",
       "      <td>NYK</td>\n",
       "      <td>New York</td>\n",
       "      <td>knicks</td>\n",
       "      <td>1610612752</td>\n",
       "      <td>Knicks</td>\n",
       "      <td>2015</td>\n",
       "    </tr>\n",
       "    <tr>\n",
       "      <th>4</th>\n",
       "      <td>Alexis Ajinca</td>\n",
       "      <td>Ajinca, Alexis</td>\n",
       "      <td>2008</td>\n",
       "      <td>Y</td>\n",
       "      <td>201582</td>\n",
       "      <td>alexis_ajinca</td>\n",
       "      <td>1</td>\n",
       "      <td>NOP</td>\n",
       "      <td>New Orleans</td>\n",
       "      <td>pelicans</td>\n",
       "      <td>1610612740</td>\n",
       "      <td>Pelicans</td>\n",
       "      <td>2015</td>\n",
       "    </tr>\n",
       "  </tbody>\n",
       "</table>\n",
       "</div>"
      ],
      "text/plain": [
       "  DISPLAY_FIRST_LAST DISPLAY_LAST_COMMA_FIRST FROM_YEAR GAMES_PLAYED_FLAG  \\\n",
       "0         Quincy Acy              Acy, Quincy      2012                 Y   \n",
       "1       Jordan Adams            Adams, Jordan      2014                 Y   \n",
       "2       Steven Adams            Adams, Steven      2013                 Y   \n",
       "3      Arron Afflalo           Afflalo, Arron      2007                 Y   \n",
       "4      Alexis Ajinca           Ajinca, Alexis      2008                 Y   \n",
       "\n",
       "   PERSON_ID     PLAYERCODE  ROSTERSTATUS TEAM_ABBREVIATION      TEAM_CITY  \\\n",
       "0     203112     quincy_acy             1               SAC     Sacramento   \n",
       "1     203919   jordan_adams             1               MEM        Memphis   \n",
       "2     203500   steven_adams             1               OKC  Oklahoma City   \n",
       "3     201167  arron_afflalo             1               NYK       New York   \n",
       "4     201582  alexis_ajinca             1               NOP    New Orleans   \n",
       "\n",
       "   TEAM_CODE     TEAM_ID  TEAM_NAME TO_YEAR  \n",
       "0      kings  1610612758      Kings    2015  \n",
       "1  grizzlies  1610612763  Grizzlies    2015  \n",
       "2    thunder  1610612760    Thunder    2015  \n",
       "3     knicks  1610612752     Knicks    2015  \n",
       "4   pelicans  1610612740   Pelicans    2015  "
      ]
     },
     "execution_count": 2,
     "metadata": {},
     "output_type": "execute_result"
    }
   ],
   "source": [
    "players = goldsberry.PlayerList()\n",
    "players2015 = pd.DataFrame(players.players())\n",
    "players2015.head()"
   ]
  },
  {
   "cell_type": "code",
   "execution_count": 3,
   "metadata": {
    "collapsed": true
   },
   "outputs": [],
   "source": [
    "players.GET_raw_data()"
   ]
  },
  {
   "cell_type": "code",
   "execution_count": 4,
   "metadata": {
    "collapsed": false
   },
   "outputs": [
    {
     "data": {
      "text/plain": [
       "{'IsOnlyCurrentSeason': '1', 'LeagueID': '00', 'Season': '2015-16'}"
      ]
     },
     "execution_count": 4,
     "metadata": {},
     "output_type": "execute_result"
    }
   ],
   "source": [
    "players.api_params"
   ]
  },
  {
   "cell_type": "code",
   "execution_count": 5,
   "metadata": {
    "collapsed": false
   },
   "outputs": [
    {
     "data": {
      "text/html": [
       "<div>\n",
       "<table border=\"1\" class=\"dataframe\">\n",
       "  <thead>\n",
       "    <tr style=\"text-align: right;\">\n",
       "      <th></th>\n",
       "      <th>DISPLAY_FIRST_LAST</th>\n",
       "      <th>DISPLAY_LAST_COMMA_FIRST</th>\n",
       "      <th>FROM_YEAR</th>\n",
       "      <th>GAMES_PLAYED_FLAG</th>\n",
       "      <th>PERSON_ID</th>\n",
       "      <th>PLAYERCODE</th>\n",
       "      <th>ROSTERSTATUS</th>\n",
       "      <th>TEAM_ABBREVIATION</th>\n",
       "      <th>TEAM_CITY</th>\n",
       "      <th>TEAM_CODE</th>\n",
       "      <th>TEAM_ID</th>\n",
       "      <th>TEAM_NAME</th>\n",
       "      <th>TO_YEAR</th>\n",
       "    </tr>\n",
       "  </thead>\n",
       "  <tbody>\n",
       "    <tr>\n",
       "      <th>0</th>\n",
       "      <td>Alaa Abdelnaby</td>\n",
       "      <td>Abdelnaby, Alaa</td>\n",
       "      <td>1990</td>\n",
       "      <td>Y</td>\n",
       "      <td>76001</td>\n",
       "      <td>HISTADD_alaa_abdelnaby</td>\n",
       "      <td>0</td>\n",
       "      <td></td>\n",
       "      <td></td>\n",
       "      <td></td>\n",
       "      <td>0</td>\n",
       "      <td></td>\n",
       "      <td>1994</td>\n",
       "    </tr>\n",
       "    <tr>\n",
       "      <th>1</th>\n",
       "      <td>Zaid Abdul-Aziz</td>\n",
       "      <td>Abdul-Aziz, Zaid</td>\n",
       "      <td>1968</td>\n",
       "      <td>Y</td>\n",
       "      <td>76002</td>\n",
       "      <td>HISTADD_zaid_abdul-aziz</td>\n",
       "      <td>0</td>\n",
       "      <td></td>\n",
       "      <td></td>\n",
       "      <td></td>\n",
       "      <td>0</td>\n",
       "      <td></td>\n",
       "      <td>1977</td>\n",
       "    </tr>\n",
       "    <tr>\n",
       "      <th>2</th>\n",
       "      <td>Kareem Abdul-Jabbar</td>\n",
       "      <td>Abdul-Jabbar, Kareem</td>\n",
       "      <td>1969</td>\n",
       "      <td>Y</td>\n",
       "      <td>76003</td>\n",
       "      <td>HISTADD_kareem_abdul-jabbar</td>\n",
       "      <td>0</td>\n",
       "      <td></td>\n",
       "      <td></td>\n",
       "      <td></td>\n",
       "      <td>0</td>\n",
       "      <td></td>\n",
       "      <td>1988</td>\n",
       "    </tr>\n",
       "    <tr>\n",
       "      <th>3</th>\n",
       "      <td>Mahmoud Abdul-Rauf</td>\n",
       "      <td>Abdul-Rauf, Mahmoud</td>\n",
       "      <td>1990</td>\n",
       "      <td>Y</td>\n",
       "      <td>51</td>\n",
       "      <td>HISTADD_mahmoud_abdul-rauf</td>\n",
       "      <td>0</td>\n",
       "      <td></td>\n",
       "      <td></td>\n",
       "      <td></td>\n",
       "      <td>0</td>\n",
       "      <td></td>\n",
       "      <td>2000</td>\n",
       "    </tr>\n",
       "    <tr>\n",
       "      <th>4</th>\n",
       "      <td>Tariq Abdul-Wahad</td>\n",
       "      <td>Abdul-Wahad, Tariq</td>\n",
       "      <td>1997</td>\n",
       "      <td>Y</td>\n",
       "      <td>1505</td>\n",
       "      <td>tariq_abdul-wahad</td>\n",
       "      <td>0</td>\n",
       "      <td></td>\n",
       "      <td></td>\n",
       "      <td></td>\n",
       "      <td>0</td>\n",
       "      <td></td>\n",
       "      <td>2003</td>\n",
       "    </tr>\n",
       "  </tbody>\n",
       "</table>\n",
       "</div>"
      ],
      "text/plain": [
       "    DISPLAY_FIRST_LAST DISPLAY_LAST_COMMA_FIRST FROM_YEAR GAMES_PLAYED_FLAG  \\\n",
       "0       Alaa Abdelnaby          Abdelnaby, Alaa      1990                 Y   \n",
       "1      Zaid Abdul-Aziz         Abdul-Aziz, Zaid      1968                 Y   \n",
       "2  Kareem Abdul-Jabbar     Abdul-Jabbar, Kareem      1969                 Y   \n",
       "3   Mahmoud Abdul-Rauf      Abdul-Rauf, Mahmoud      1990                 Y   \n",
       "4    Tariq Abdul-Wahad       Abdul-Wahad, Tariq      1997                 Y   \n",
       "\n",
       "   PERSON_ID                   PLAYERCODE  ROSTERSTATUS TEAM_ABBREVIATION  \\\n",
       "0      76001       HISTADD_alaa_abdelnaby             0                     \n",
       "1      76002      HISTADD_zaid_abdul-aziz             0                     \n",
       "2      76003  HISTADD_kareem_abdul-jabbar             0                     \n",
       "3         51   HISTADD_mahmoud_abdul-rauf             0                     \n",
       "4       1505            tariq_abdul-wahad             0                     \n",
       "\n",
       "  TEAM_CITY TEAM_CODE  TEAM_ID TEAM_NAME TO_YEAR  \n",
       "0                            0              1994  \n",
       "1                            0              1977  \n",
       "2                            0              1988  \n",
       "3                            0              2000  \n",
       "4                            0              2003  "
      ]
     },
     "execution_count": 5,
     "metadata": {},
     "output_type": "execute_result"
    }
   ],
   "source": [
    "players.SET_parameters(IsOnlyCurrentSeason = 0)\n",
    "players.GET_raw_data()\n",
    "playersAllTime = pd.DataFrame(players.players())\n",
    "playersAllTime.head()"
   ]
  },
  {
   "cell_type": "code",
   "execution_count": 6,
   "metadata": {
    "collapsed": false
   },
   "outputs": [
    {
     "data": {
      "image/png": "[encoded data removed]",
      "text/plain": [
       "<matplotlib.figure.Figure at 0xa213a90>"
      ]
     },
     "metadata": {},
     "output_type": "display_data"
    }
   ],
   "source": [
    "#Curry\n",
    "\n",
    "players2015.ix[players2015['DISPLAY_LAST_COMMA_FIRST'].str.contains(\"Curry\")]\n",
    "\n",
    "curry_id = '201939'\n",
    "\n",
    "curry_game_logs = goldsberry.player.game_logs(curry_id)\n",
    "\n",
    "curry_game_logs_2015 = pd.DataFrame(curry_game_logs.logs())\n",
    "\n",
    "curry_game_logs_2015.head()\n",
    "\n",
    "curry_shots = goldsberry.player.shot_chart(curry_id)\n",
    "\n",
    "curry_shots = pd.DataFrame(curry_shots.chart())\n",
    "\n",
    "sns.set_style(\"white\")\n",
    "sns.set_color_codes()\n",
    "plt.figure(figsize=(12,11))\n",
    "plt.scatter(curry_shots.LOC_X, curry_shots.LOC_Y)\n",
    "plt.show()"
   ]
  },
  {
   "cell_type": "code",
   "execution_count": 7,
   "metadata": {
    "collapsed": false
   },
   "outputs": [
    {
     "data": {
      "image/png": "[encoded data removed]",
      "text/plain": [
       "<matplotlib.figure.Figure at 0xa21d940>"
      ]
     },
     "metadata": {},
     "output_type": "display_data"
    }
   ],
   "source": [
    "#Shots from the right side\n",
    "right = curry_shots[curry_shots.SHOT_ZONE_AREA == \"Right Side(R)\"]\n",
    "plt.figure(figsize=(12,11))\n",
    "plt.scatter(right.LOC_X, right.LOC_Y)\n",
    "plt.xlim(-300,300)\n",
    "plt.ylim(-100,500)\n",
    "plt.show()"
   ]
  },
  {
   "cell_type": "code",
   "execution_count": null,
   "metadata": {
    "collapsed": true
   },
   "outputs": [],
   "source": [
    "#Shots from the left side\n",
    "left = curry_shots[curry_shots.SHOT_ZONE_AREA == \"Left Side(L)\"]\n",
    "plt.figure(figsize=(12,11))\n",
    "plt.scatter(left.LOC_X, left.LOC_Y)\n",
    "plt.xlim(-300,300)\n",
    "plt.ylim(-100,500)\n",
    "plt.show()\n",
    "\n",
    "from matplotlib.patches import Circle, Rectangle, Arc\n",
    "\n",
    "def draw_court(ax=None, color='black', lw=2, outer_lines=False):\n",
    "    # If an axes object isn't provided to plot onto, just get current one\n",
    "    if ax is None:\n",
    "        ax = plt.gca()\n",
    "\n",
    "    # Create the various parts of an NBA basketball court\n",
    "\n",
    "    # Create the basketball hoop\n",
    "    # Diameter of a hoop is 18\" so it has a radius of 9\", which is a value\n",
    "    # 7.5 in our coordinate system\n",
    "    hoop = Circle((0, 0), radius=7.5, linewidth=lw, color=color, fill=False)\n",
    "\n",
    "    # Create backboard\n",
    "    backboard = Rectangle((-30, -7.5), 60, -1, linewidth=lw, color=color)\n",
    "\n",
    "    # The paint\n",
    "    # Create the outer box 0f the paint, width=16ft, height=19ft\n",
    "    outer_box = Rectangle((-80, -47.5), 160, 190, linewidth=lw, color=color,\n",
    "                          fill=False)\n",
    "    # Create the inner box of the paint, widt=12ft, height=19ft\n",
    "    inner_box = Rectangle((-60, -47.5), 120, 190, linewidth=lw, color=color,\n",
    "                          fill=False)\n",
    "\n",
    "    # Create free throw top arc\n",
    "    top_free_throw = Arc((0, 142.5), 120, 120, theta1=0, theta2=180,\n",
    "                         linewidth=lw, color=color, fill=False)\n",
    "    # Create free throw bottom arc\n",
    "    bottom_free_throw = Arc((0, 142.5), 120, 120, theta1=180, theta2=0,\n",
    "                            linewidth=lw, color=color, linestyle='dashed')\n",
    "    # Restricted Zone, it is an arc with 4ft radius from center of the hoop\n",
    "    restricted = Arc((0, 0), 80, 80, theta1=0, theta2=180, linewidth=lw,\n",
    "                     color=color)\n",
    "\n",
    "    # Three point line\n",
    "    # Create the side 3pt lines, they are 14ft long before they begin to arc\n",
    "    corner_three_a = Rectangle((-220, -47.5), 0, 140, linewidth=lw,\n",
    "                               color=color)\n",
    "    corner_three_b = Rectangle((220, -47.5), 0, 140, linewidth=lw, color=color)\n",
    "    # 3pt arc - center of arc will be the hoop, arc is 23'9\" away from hoop\n",
    "    # I just played around with the theta values until they lined up with the \n",
    "    # threes\n",
    "    three_arc = Arc((0, 0), 475, 475, theta1=22, theta2=158, linewidth=lw,\n",
    "                    color=color)\n",
    "\n",
    "    # Center Court\n",
    "    center_outer_arc = Arc((0, 422.5), 120, 120, theta1=180, theta2=0,\n",
    "                           linewidth=lw, color=color)\n",
    "    center_inner_arc = Arc((0, 422.5), 40, 40, theta1=180, theta2=0,\n",
    "                           linewidth=lw, color=color)\n",
    "\n",
    "    # List of the court elements to be plotted onto the axes\n",
    "    court_elements = [hoop, backboard, outer_box, inner_box, top_free_throw,\n",
    "                      bottom_free_throw, restricted, corner_three_a,\n",
    "                      corner_three_b, three_arc, center_outer_arc,\n",
    "                      center_inner_arc]\n",
    "\n",
    "    if outer_lines:\n",
    "        # Draw the half court line, baseline and side out bound lines\n",
    "        outer_lines = Rectangle((-250, -47.5), 500, 470, linewidth=lw,\n",
    "                                color=color, fill=False)\n",
    "        court_elements.append(outer_lines)\n",
    "\n",
    "    # Add the court elements onto the axes\n",
    "    for element in court_elements:\n",
    "        ax.add_patch(element)\n",
    "\n",
    "    return ax\n",
    "\n",
    "plt.figure(figsize=(12,11))\n",
    "plt.scatter(curry_shots.LOC_X, curry_shots.LOC_Y)\n",
    "draw_court(outer_lines=True)\n",
    "# Descending values along the axis from left to right\n",
    "plt.xlim(300,-300)\n",
    "plt.show()"
   ]
  },
  {
   "cell_type": "code",
   "execution_count": null,
   "metadata": {
    "collapsed": true
   },
   "outputs": [],
   "source": [
    "plt.figure(figsize=(12,11))\n",
    "plt.scatter(curry_shots.LOC_X, curry_shots.LOC_Y)\n",
    "draw_court()\n",
    "\n",
    "# Adjust plot limits to just fit in half court\n",
    "plt.xlim(-300,300)\n",
    "# Descending values along th y axis from bottom to top\n",
    "# in order to place the hoop by the top of plot\n",
    "plt.ylim(422.5, -47.5)\n",
    "# get rid of axis tick labels\n",
    "# plt.tick_params(labelbottom=False, labelleft=False)\n",
    "plt.show()"
   ]
  }
 ],
 "metadata": {
  "kernelspec": {
   "display_name": "Python 2",
   "language": "python",
   "name": "python2"
  },
  "language_info": {
   "codemirror_mode": {
    "name": "ipython",
    "version": 2
   },
   "file_extension": ".py",
   "mimetype": "text/x-python",
   "name": "python",
   "nbconvert_exporter": "python",
   "pygments_lexer": "ipython2",
   "version": "2.7.11"
  }
 },
 "nbformat": 4,
 "nbformat_minor": 0
}
