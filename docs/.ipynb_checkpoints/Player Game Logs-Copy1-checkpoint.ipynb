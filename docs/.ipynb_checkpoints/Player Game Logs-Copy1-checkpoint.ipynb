{
 "cells": [
  {
   "cell_type": "code",
   "execution_count": 3,
   "metadata": {
    "collapsed": false,
    "hide_input": true,
    "init_cell": true
   },
   "outputs": [
    {
     "data": {
      "text/html": [
       "<style>.container { width:90% !important; }</style>"
      ],
      "text/plain": [
       "<IPython.core.display.HTML object>"
      ]
     },
     "execution_count": 3,
     "metadata": {},
     "output_type": "execute_result"
    }
   ],
   "source": [
    "from IPython.core.display import HTML\n",
    "HTML(\"<style>.container { width:90% !important; }</style>\")"
   ]
  },
  {
   "cell_type": "markdown",
   "metadata": {},
   "source": [
    "Py-Goldsberry - Player-Level Box Score Data\n",
    "===\n",
    "\n",
    "This tutorial walks through using the py-goldsberry package to collect box score data at the player level.\n",
    "\n",
    "To get started, we need to import py-goldsberry and we're going to go ahead import pandas so we can explore the data quickly once we have it collected."
   ]
  },
  {
   "cell_type": "code",
   "execution_count": 4,
   "metadata": {
    "collapsed": false,
    "init_cell": true
   },
   "outputs": [
    {
     "data": {
      "text/plain": [
       "'0.8.0.1'"
      ]
     },
     "execution_count": 4,
     "metadata": {},
     "output_type": "execute_result"
    }
   ],
   "source": [
    "from __future__ import division\n",
    "\n",
    "import goldsberry\n",
    "import pandas as pd\n",
    "pd.options.display.max_columns = 100\n",
    "pd.options.display.max_rows = 100\n",
    "goldsberry.__version__"
   ]
  },
  {
   "cell_type": "markdown",
   "metadata": {},
   "source": [
    "## Getting List of All Games"
   ]
  },
  {
   "cell_type": "code",
   "execution_count": 5,
   "metadata": {
    "collapsed": false
   },
   "outputs": [],
   "source": [
    "game_list = goldsberry.GameIDs()"
   ]
  },
  {
   "cell_type": "code",
   "execution_count": 6,
   "metadata": {
    "collapsed": true
   },
   "outputs": [],
   "source": [
    "game_list.SET_parameters(Season = '2014-15')"
   ]
  },
  {
   "cell_type": "code",
   "execution_count": 7,
   "metadata": {
    "collapsed": true
   },
   "outputs": [],
   "source": [
    "game_list.GET_raw_data()"
   ]
  },
  {
   "cell_type": "code",
   "execution_count": 8,
   "metadata": {
    "collapsed": false
   },
   "outputs": [],
   "source": [
    "df_games = pd.DataFrame(game_list.game_list())"
   ]
  },
  {
   "cell_type": "code",
   "execution_count": 9,
   "metadata": {
    "collapsed": false,
    "scrolled": true
   },
   "outputs": [
    {
     "data": {
      "text/html": [
       "<div>\n",
       "<table border=\"1\" class=\"dataframe\">\n",
       "  <thead>\n",
       "    <tr style=\"text-align: right;\">\n",
       "      <th></th>\n",
       "      <th>AST</th>\n",
       "      <th>BLK</th>\n",
       "      <th>DREB</th>\n",
       "      <th>FG3A</th>\n",
       "      <th>FG3M</th>\n",
       "      <th>FG3_PCT</th>\n",
       "      <th>FGA</th>\n",
       "      <th>FGM</th>\n",
       "      <th>FG_PCT</th>\n",
       "      <th>FTA</th>\n",
       "      <th>FTM</th>\n",
       "      <th>FT_PCT</th>\n",
       "      <th>GAME_DATE</th>\n",
       "      <th>GAME_ID</th>\n",
       "      <th>MATCHUP</th>\n",
       "      <th>MIN</th>\n",
       "      <th>OREB</th>\n",
       "      <th>PF</th>\n",
       "      <th>PLUS_MINUS</th>\n",
       "      <th>PTS</th>\n",
       "      <th>REB</th>\n",
       "      <th>SEASON_ID</th>\n",
       "      <th>STL</th>\n",
       "      <th>TEAM_ABBREVIATION</th>\n",
       "      <th>TEAM_ID</th>\n",
       "      <th>TEAM_NAME</th>\n",
       "      <th>TOV</th>\n",
       "      <th>VIDEO_AVAILABLE</th>\n",
       "      <th>WL</th>\n",
       "    </tr>\n",
       "  </thead>\n",
       "  <tbody>\n",
       "    <tr>\n",
       "      <th>0</th>\n",
       "      <td>39</td>\n",
       "      <td>6</td>\n",
       "      <td>38</td>\n",
       "      <td>29</td>\n",
       "      <td>11</td>\n",
       "      <td>0.379</td>\n",
       "      <td>109</td>\n",
       "      <td>57</td>\n",
       "      <td>0.523</td>\n",
       "      <td>24</td>\n",
       "      <td>19</td>\n",
       "      <td>0.792</td>\n",
       "      <td>2015-04-10</td>\n",
       "      <td>0021401184</td>\n",
       "      <td>DAL @ DEN</td>\n",
       "      <td>290</td>\n",
       "      <td>11</td>\n",
       "      <td>23</td>\n",
       "      <td>1</td>\n",
       "      <td>144</td>\n",
       "      <td>49</td>\n",
       "      <td>22014</td>\n",
       "      <td>8</td>\n",
       "      <td>DAL</td>\n",
       "      <td>1610612742</td>\n",
       "      <td>Dallas Mavericks</td>\n",
       "      <td>17</td>\n",
       "      <td>1</td>\n",
       "      <td>W</td>\n",
       "    </tr>\n",
       "    <tr>\n",
       "      <th>1</th>\n",
       "      <td>35</td>\n",
       "      <td>1</td>\n",
       "      <td>30</td>\n",
       "      <td>15</td>\n",
       "      <td>4</td>\n",
       "      <td>0.267</td>\n",
       "      <td>91</td>\n",
       "      <td>56</td>\n",
       "      <td>0.615</td>\n",
       "      <td>24</td>\n",
       "      <td>19</td>\n",
       "      <td>0.792</td>\n",
       "      <td>2015-04-01</td>\n",
       "      <td>0021401120</td>\n",
       "      <td>DAL @ OKC</td>\n",
       "      <td>240</td>\n",
       "      <td>4</td>\n",
       "      <td>23</td>\n",
       "      <td>4</td>\n",
       "      <td>135</td>\n",
       "      <td>34</td>\n",
       "      <td>22014</td>\n",
       "      <td>8</td>\n",
       "      <td>DAL</td>\n",
       "      <td>1610612742</td>\n",
       "      <td>Dallas Mavericks</td>\n",
       "      <td>6</td>\n",
       "      <td>1</td>\n",
       "      <td>W</td>\n",
       "    </tr>\n",
       "    <tr>\n",
       "      <th>2</th>\n",
       "      <td>31</td>\n",
       "      <td>3</td>\n",
       "      <td>31</td>\n",
       "      <td>20</td>\n",
       "      <td>15</td>\n",
       "      <td>0.750</td>\n",
       "      <td>84</td>\n",
       "      <td>56</td>\n",
       "      <td>0.667</td>\n",
       "      <td>16</td>\n",
       "      <td>12</td>\n",
       "      <td>0.750</td>\n",
       "      <td>2014-11-14</td>\n",
       "      <td>0021400128</td>\n",
       "      <td>NOP vs. MIN</td>\n",
       "      <td>240</td>\n",
       "      <td>3</td>\n",
       "      <td>30</td>\n",
       "      <td>48</td>\n",
       "      <td>139</td>\n",
       "      <td>34</td>\n",
       "      <td>22014</td>\n",
       "      <td>13</td>\n",
       "      <td>NOP</td>\n",
       "      <td>1610612740</td>\n",
       "      <td>New Orleans Pelicans</td>\n",
       "      <td>13</td>\n",
       "      <td>1</td>\n",
       "      <td>W</td>\n",
       "    </tr>\n",
       "    <tr>\n",
       "      <th>3</th>\n",
       "      <td>29</td>\n",
       "      <td>1</td>\n",
       "      <td>34</td>\n",
       "      <td>43</td>\n",
       "      <td>15</td>\n",
       "      <td>0.349</td>\n",
       "      <td>125</td>\n",
       "      <td>53</td>\n",
       "      <td>0.424</td>\n",
       "      <td>25</td>\n",
       "      <td>22</td>\n",
       "      <td>0.880</td>\n",
       "      <td>2015-04-10</td>\n",
       "      <td>0021401184</td>\n",
       "      <td>DEN vs. DAL</td>\n",
       "      <td>290</td>\n",
       "      <td>27</td>\n",
       "      <td>26</td>\n",
       "      <td>-1</td>\n",
       "      <td>143</td>\n",
       "      <td>61</td>\n",
       "      <td>22014</td>\n",
       "      <td>10</td>\n",
       "      <td>DEN</td>\n",
       "      <td>1610612743</td>\n",
       "      <td>Denver Nuggets</td>\n",
       "      <td>15</td>\n",
       "      <td>1</td>\n",
       "      <td>L</td>\n",
       "    </tr>\n",
       "    <tr>\n",
       "      <th>4</th>\n",
       "      <td>42</td>\n",
       "      <td>6</td>\n",
       "      <td>23</td>\n",
       "      <td>36</td>\n",
       "      <td>20</td>\n",
       "      <td>0.556</td>\n",
       "      <td>88</td>\n",
       "      <td>53</td>\n",
       "      <td>0.602</td>\n",
       "      <td>7</td>\n",
       "      <td>4</td>\n",
       "      <td>0.571</td>\n",
       "      <td>2015-03-09</td>\n",
       "      <td>0021400939</td>\n",
       "      <td>ATL vs. SAC</td>\n",
       "      <td>240</td>\n",
       "      <td>10</td>\n",
       "      <td>18</td>\n",
       "      <td>25</td>\n",
       "      <td>130</td>\n",
       "      <td>33</td>\n",
       "      <td>22014</td>\n",
       "      <td>8</td>\n",
       "      <td>ATL</td>\n",
       "      <td>1610612737</td>\n",
       "      <td>Atlanta Hawks</td>\n",
       "      <td>13</td>\n",
       "      <td>1</td>\n",
       "      <td>W</td>\n",
       "    </tr>\n",
       "  </tbody>\n",
       "</table>\n",
       "</div>"
      ],
      "text/plain": [
       "   AST  BLK  DREB  FG3A  FG3M  FG3_PCT  FGA  FGM  FG_PCT  FTA  FTM  FT_PCT  \\\n",
       "0   39    6    38    29    11    0.379  109   57   0.523   24   19   0.792   \n",
       "1   35    1    30    15     4    0.267   91   56   0.615   24   19   0.792   \n",
       "2   31    3    31    20    15    0.750   84   56   0.667   16   12   0.750   \n",
       "3   29    1    34    43    15    0.349  125   53   0.424   25   22   0.880   \n",
       "4   42    6    23    36    20    0.556   88   53   0.602    7    4   0.571   \n",
       "\n",
       "    GAME_DATE     GAME_ID      MATCHUP  MIN  OREB  PF  PLUS_MINUS  PTS  REB  \\\n",
       "0  2015-04-10  0021401184    DAL @ DEN  290    11  23           1  144   49   \n",
       "1  2015-04-01  0021401120    DAL @ OKC  240     4  23           4  135   34   \n",
       "2  2014-11-14  0021400128  NOP vs. MIN  240     3  30          48  139   34   \n",
       "3  2015-04-10  0021401184  DEN vs. DAL  290    27  26          -1  143   61   \n",
       "4  2015-03-09  0021400939  ATL vs. SAC  240    10  18          25  130   33   \n",
       "\n",
       "  SEASON_ID  STL TEAM_ABBREVIATION     TEAM_ID             TEAM_NAME  TOV  \\\n",
       "0     22014    8               DAL  1610612742      Dallas Mavericks   17   \n",
       "1     22014    8               DAL  1610612742      Dallas Mavericks    6   \n",
       "2     22014   13               NOP  1610612740  New Orleans Pelicans   13   \n",
       "3     22014   10               DEN  1610612743        Denver Nuggets   15   \n",
       "4     22014    8               ATL  1610612737         Atlanta Hawks   13   \n",
       "\n",
       "   VIDEO_AVAILABLE WL  \n",
       "0                1  W  \n",
       "1                1  W  \n",
       "2                1  W  \n",
       "3                1  L  \n",
       "4                1  W  "
      ]
     },
     "execution_count": 9,
     "metadata": {},
     "output_type": "execute_result"
    }
   ],
   "source": [
    "df_games.head()"
   ]
  },
  {
   "cell_type": "code",
   "execution_count": 10,
   "metadata": {
    "collapsed": true
   },
   "outputs": [],
   "source": [
    "team_cols = ['TEAM_ID','TEAM_NAME','TEAM_ABBREVIATION','SEASON_ID',\n",
    "             'GAME_DATE','GAME_ID','MATCHUP','WL',\n",
    "             'PTS','REB','STL','TOV','AST','BLK','DREB','FG3A','FG3M',\n",
    "             'FG3_PCT','FGA','FGM','FG_PCT','FTA','FTM','FT_PCT','MIN',\n",
    "             'OREB','PF','PLUS_MINUS','VIDEO_AVAILABLE']\n",
    "\n",
    "df_games = df_games[team_cols]"
   ]
  },
  {
   "cell_type": "markdown",
   "metadata": {},
   "source": [
    "## Getting Player Level Data"
   ]
  },
  {
   "cell_type": "code",
   "execution_count": 11,
   "metadata": {
    "collapsed": true
   },
   "outputs": [],
   "source": [
    "player_list = goldsberry.PlayerList()"
   ]
  },
  {
   "cell_type": "code",
   "execution_count": 12,
   "metadata": {
    "collapsed": true
   },
   "outputs": [],
   "source": [
    "player_list.SET_parameters(Season = '2014-15')"
   ]
  },
  {
   "cell_type": "code",
   "execution_count": 13,
   "metadata": {
    "collapsed": true
   },
   "outputs": [],
   "source": [
    "df_players = pd.DataFrame(player_list.players())"
   ]
  },
  {
   "cell_type": "code",
   "execution_count": 14,
   "metadata": {
    "collapsed": false
   },
   "outputs": [
    {
     "data": {
      "text/html": [
       "<div>\n",
       "<table border=\"1\" class=\"dataframe\">\n",
       "  <thead>\n",
       "    <tr style=\"text-align: right;\">\n",
       "      <th></th>\n",
       "      <th>DISPLAY_FIRST_LAST</th>\n",
       "      <th>DISPLAY_LAST_COMMA_FIRST</th>\n",
       "      <th>FROM_YEAR</th>\n",
       "      <th>GAMES_PLAYED_FLAG</th>\n",
       "      <th>PERSON_ID</th>\n",
       "      <th>PLAYERCODE</th>\n",
       "      <th>ROSTERSTATUS</th>\n",
       "      <th>TEAM_ABBREVIATION</th>\n",
       "      <th>TEAM_CITY</th>\n",
       "      <th>TEAM_CODE</th>\n",
       "      <th>TEAM_ID</th>\n",
       "      <th>TEAM_NAME</th>\n",
       "      <th>TO_YEAR</th>\n",
       "    </tr>\n",
       "  </thead>\n",
       "  <tbody>\n",
       "    <tr>\n",
       "      <th>0</th>\n",
       "      <td>Quincy Acy</td>\n",
       "      <td>Acy, Quincy</td>\n",
       "      <td>2012</td>\n",
       "      <td>Y</td>\n",
       "      <td>203112</td>\n",
       "      <td>quincy_acy</td>\n",
       "      <td>1</td>\n",
       "      <td>SAC</td>\n",
       "      <td>Sacramento</td>\n",
       "      <td>kings</td>\n",
       "      <td>1610612758</td>\n",
       "      <td>Kings</td>\n",
       "      <td>2015</td>\n",
       "    </tr>\n",
       "    <tr>\n",
       "      <th>1</th>\n",
       "      <td>Jordan Adams</td>\n",
       "      <td>Adams, Jordan</td>\n",
       "      <td>2014</td>\n",
       "      <td>Y</td>\n",
       "      <td>203919</td>\n",
       "      <td>jordan_adams</td>\n",
       "      <td>1</td>\n",
       "      <td>MEM</td>\n",
       "      <td>Memphis</td>\n",
       "      <td>grizzlies</td>\n",
       "      <td>1610612763</td>\n",
       "      <td>Grizzlies</td>\n",
       "      <td>2015</td>\n",
       "    </tr>\n",
       "    <tr>\n",
       "      <th>2</th>\n",
       "      <td>Steven Adams</td>\n",
       "      <td>Adams, Steven</td>\n",
       "      <td>2013</td>\n",
       "      <td>Y</td>\n",
       "      <td>203500</td>\n",
       "      <td>steven_adams</td>\n",
       "      <td>1</td>\n",
       "      <td>OKC</td>\n",
       "      <td>Oklahoma City</td>\n",
       "      <td>thunder</td>\n",
       "      <td>1610612760</td>\n",
       "      <td>Thunder</td>\n",
       "      <td>2015</td>\n",
       "    </tr>\n",
       "    <tr>\n",
       "      <th>3</th>\n",
       "      <td>Arron Afflalo</td>\n",
       "      <td>Afflalo, Arron</td>\n",
       "      <td>2007</td>\n",
       "      <td>Y</td>\n",
       "      <td>201167</td>\n",
       "      <td>arron_afflalo</td>\n",
       "      <td>1</td>\n",
       "      <td>NYK</td>\n",
       "      <td>New York</td>\n",
       "      <td>knicks</td>\n",
       "      <td>1610612752</td>\n",
       "      <td>Knicks</td>\n",
       "      <td>2015</td>\n",
       "    </tr>\n",
       "    <tr>\n",
       "      <th>4</th>\n",
       "      <td>Alexis Ajinca</td>\n",
       "      <td>Ajinca, Alexis</td>\n",
       "      <td>2008</td>\n",
       "      <td>Y</td>\n",
       "      <td>201582</td>\n",
       "      <td>alexis_ajinca</td>\n",
       "      <td>1</td>\n",
       "      <td>NOP</td>\n",
       "      <td>New Orleans</td>\n",
       "      <td>pelicans</td>\n",
       "      <td>1610612740</td>\n",
       "      <td>Pelicans</td>\n",
       "      <td>2015</td>\n",
       "    </tr>\n",
       "  </tbody>\n",
       "</table>\n",
       "</div>"
      ],
      "text/plain": [
       "  DISPLAY_FIRST_LAST DISPLAY_LAST_COMMA_FIRST FROM_YEAR GAMES_PLAYED_FLAG  \\\n",
       "0         Quincy Acy              Acy, Quincy      2012                 Y   \n",
       "1       Jordan Adams            Adams, Jordan      2014                 Y   \n",
       "2       Steven Adams            Adams, Steven      2013                 Y   \n",
       "3      Arron Afflalo           Afflalo, Arron      2007                 Y   \n",
       "4      Alexis Ajinca           Ajinca, Alexis      2008                 Y   \n",
       "\n",
       "   PERSON_ID     PLAYERCODE  ROSTERSTATUS TEAM_ABBREVIATION      TEAM_CITY  \\\n",
       "0     203112     quincy_acy             1               SAC     Sacramento   \n",
       "1     203919   jordan_adams             1               MEM        Memphis   \n",
       "2     203500   steven_adams             1               OKC  Oklahoma City   \n",
       "3     201167  arron_afflalo             1               NYK       New York   \n",
       "4     201582  alexis_ajinca             1               NOP    New Orleans   \n",
       "\n",
       "   TEAM_CODE     TEAM_ID  TEAM_NAME TO_YEAR  \n",
       "0      kings  1610612758      Kings    2015  \n",
       "1  grizzlies  1610612763  Grizzlies    2015  \n",
       "2    thunder  1610612760    Thunder    2015  \n",
       "3     knicks  1610612752     Knicks    2015  \n",
       "4   pelicans  1610612740   Pelicans    2015  "
      ]
     },
     "execution_count": 14,
     "metadata": {},
     "output_type": "execute_result"
    }
   ],
   "source": [
    "df_players.head()"
   ]
  },
  {
   "cell_type": "markdown",
   "metadata": {},
   "source": [
    "## Getting game logs for the entire league\n",
    "\n",
    "Now that we know how to get the game log data for a single person, we can combine that knowledge with information in the `df_players` to loop through the entire league and create a dataset of player-level game logs for the entire league.\n",
    "\n",
    "To do this, we're going to iterate over the `PERSON_ID` column in our `df_players`. We're going to save the results of each iteration to an ever expanding list, `league_logs`. Once we're done with the loop, we're going to convert it to a dataframe. "
   ]
  },
  {
   "cell_type": "code",
   "execution_count": 15,
   "metadata": {
    "collapsed": true
   },
   "outputs": [],
   "source": [
    "player_log = goldsberry.player.game_logs(203112)"
   ]
  },
  {
   "cell_type": "code",
   "execution_count": 16,
   "metadata": {
    "collapsed": false
   },
   "outputs": [],
   "source": [
    "player_log.SET_parameters(Season='2014-15')"
   ]
  },
  {
   "cell_type": "code",
   "execution_count": 17,
   "metadata": {
    "collapsed": true
   },
   "outputs": [],
   "source": [
    "league_logs = []\n",
    "for _ , pid in df_players.PERSON_ID.iteritems():\n",
    "    player_log.SET_parameters(PlayerID = pid)\n",
    "    player_log.GET_raw_data()\n",
    "    league_logs[0:0] = player_log.logs()\n",
    "\n",
    "df_gamelogs = pd.DataFrame(league_logs)"
   ]
  },
  {
   "cell_type": "markdown",
   "metadata": {},
   "source": [
    "Because we don't remember all of the Player's names by their ID, we're going to use our `df_players` data frame to append the appropriate name and team to the game log data. Finally, we're going to rearrange the columns because it doesn't make sense to keep them in alphabetical order. The table will be easier to understand if it's in some reasonable order given the nature of the data. "
   ]
  },
  {
   "cell_type": "code",
   "execution_count": 18,
   "metadata": {
    "collapsed": true
   },
   "outputs": [],
   "source": [
    "df_gamelogs = pd.merge(df_gamelogs, df_players.loc[:,['DISPLAY_FIRST_LAST', 'PERSON_ID']], left_on = 'Player_ID', right_on='PERSON_ID')"
   ]
  },
  {
   "cell_type": "code",
   "execution_count": 19,
   "metadata": {
    "collapsed": false
   },
   "outputs": [],
   "source": [
    "col_order = ['Player_ID','DISPLAY_FIRST_LAST',\n",
    "             'SEASON_ID','GAME_DATE','Game_ID','MATCHUP','WL',\n",
    "             'PTS','REB','STL','TOV','AST','BLK','DREB','FG3A','FG3M',\n",
    "             'FG3_PCT','FGA','FGM','FG_PCT','FTA','FTM','FT_PCT','MIN',\n",
    "             'OREB','PF','PLUS_MINUS','VIDEO_AVAILABLE']\n",
    "df_gamelogs = df_gamelogs[col_order]"
   ]
  },
  {
   "cell_type": "raw",
   "metadata": {
    "collapsed": true
   },
   "source": [
    "# Extracting New Variables - Days Rest\n",
    "df_gamelogs['DAYS_REST'] = df_gamelogs.groupby('Player_ID').GAME_DATE.diff().dt.days"
   ]
  },
  {
   "cell_type": "markdown",
   "metadata": {},
   "source": [
    "# Cumulative totals by team\n",
    "\n",
    "This number can potentially be computed at the game level or at the season level and reapplied to PER retroactively. "
   ]
  },
  {
   "cell_type": "code",
   "execution_count": 20,
   "metadata": {
    "collapsed": false
   },
   "outputs": [
    {
     "data": {
      "text/html": [
       "<div>\n",
       "<table border=\"1\" class=\"dataframe\">\n",
       "  <thead>\n",
       "    <tr style=\"text-align: right;\">\n",
       "      <th></th>\n",
       "      <th>TEAM_ID</th>\n",
       "      <th>TEAM_NAME</th>\n",
       "      <th>TEAM_ABBREVIATION</th>\n",
       "      <th>SEASON_ID</th>\n",
       "      <th>GAME_DATE</th>\n",
       "      <th>GAME_ID</th>\n",
       "      <th>MATCHUP</th>\n",
       "      <th>WL</th>\n",
       "      <th>PTS</th>\n",
       "      <th>REB</th>\n",
       "      <th>STL</th>\n",
       "      <th>TOV</th>\n",
       "      <th>AST</th>\n",
       "      <th>BLK</th>\n",
       "      <th>DREB</th>\n",
       "      <th>FG3A</th>\n",
       "      <th>FG3M</th>\n",
       "      <th>FG3_PCT</th>\n",
       "      <th>FGA</th>\n",
       "      <th>FGM</th>\n",
       "      <th>FG_PCT</th>\n",
       "      <th>FTA</th>\n",
       "      <th>FTM</th>\n",
       "      <th>FT_PCT</th>\n",
       "      <th>MIN</th>\n",
       "      <th>OREB</th>\n",
       "      <th>PF</th>\n",
       "      <th>PLUS_MINUS</th>\n",
       "      <th>VIDEO_AVAILABLE</th>\n",
       "    </tr>\n",
       "  </thead>\n",
       "  <tbody>\n",
       "  </tbody>\n",
       "</table>\n",
       "</div>"
      ],
      "text/plain": [
       "Empty DataFrame\n",
       "Columns: [TEAM_ID, TEAM_NAME, TEAM_ABBREVIATION, SEASON_ID, GAME_DATE, GAME_ID, MATCHUP, WL, PTS, REB, STL, TOV, AST, BLK, DREB, FG3A, FG3M, FG3_PCT, FGA, FGM, FG_PCT, FTA, FTM, FT_PCT, MIN, OREB, PF, PLUS_MINUS, VIDEO_AVAILABLE]\n",
       "Index: []"
      ]
     },
     "execution_count": 20,
     "metadata": {},
     "output_type": "execute_result"
    }
   ],
   "source": [
    "df_games.loc[df_games.GAME_ID == '0021500391']"
   ]
  },
  {
   "cell_type": "code",
   "execution_count": 21,
   "metadata": {
    "collapsed": false
   },
   "outputs": [],
   "source": [
    "df_games.sort_values('GAME_ID', inplace=True)\n",
    "df_games.reset_index(drop=True, inplace=True)"
   ]
  },
  {
   "cell_type": "code",
   "execution_count": 22,
   "metadata": {
    "collapsed": false
   },
   "outputs": [],
   "source": [
    "df_games = df_games.merge(df_games.groupby(['TEAM_ID', 'GAME_DATE'])['AST', 'FGA', 'FGM', 'PTS'].cumsum(),left_index=True, right_index=True, suffixes=('', '_CUM_TOTALS'))"
   ]
  },
  {
   "cell_type": "code",
   "execution_count": 23,
   "metadata": {
    "collapsed": true
   },
   "outputs": [],
   "source": [
    "df_games['GAME_NUMBER'] = df_games.groupby(['TEAM_ID', 'GAME_DATE']).cumcount()+1"
   ]
  },
  {
   "cell_type": "code",
   "execution_count": 24,
   "metadata": {
    "collapsed": false
   },
   "outputs": [
    {
     "data": {
      "text/html": [
       "<div>\n",
       "<table border=\"1\" class=\"dataframe\">\n",
       "  <thead>\n",
       "    <tr style=\"text-align: right;\">\n",
       "      <th></th>\n",
       "      <th>TEAM_ID</th>\n",
       "      <th>TEAM_NAME</th>\n",
       "      <th>TEAM_ABBREVIATION</th>\n",
       "      <th>SEASON_ID</th>\n",
       "      <th>GAME_DATE</th>\n",
       "      <th>GAME_ID</th>\n",
       "      <th>MATCHUP</th>\n",
       "      <th>WL</th>\n",
       "      <th>PTS</th>\n",
       "      <th>REB</th>\n",
       "      <th>STL</th>\n",
       "      <th>TOV</th>\n",
       "      <th>AST</th>\n",
       "      <th>BLK</th>\n",
       "      <th>DREB</th>\n",
       "      <th>FG3A</th>\n",
       "      <th>FG3M</th>\n",
       "      <th>FG3_PCT</th>\n",
       "      <th>FGA</th>\n",
       "      <th>FGM</th>\n",
       "      <th>FG_PCT</th>\n",
       "      <th>FTA</th>\n",
       "      <th>FTM</th>\n",
       "      <th>FT_PCT</th>\n",
       "      <th>MIN</th>\n",
       "      <th>OREB</th>\n",
       "      <th>PF</th>\n",
       "      <th>PLUS_MINUS</th>\n",
       "      <th>VIDEO_AVAILABLE</th>\n",
       "      <th>AST_CUM_TOTALS</th>\n",
       "      <th>FGA_CUM_TOTALS</th>\n",
       "      <th>FGM_CUM_TOTALS</th>\n",
       "      <th>PTS_CUM_TOTALS</th>\n",
       "      <th>GAME_NUMBER</th>\n",
       "    </tr>\n",
       "  </thead>\n",
       "  <tbody>\n",
       "    <tr>\n",
       "      <th>0</th>\n",
       "      <td>1610612753</td>\n",
       "      <td>Orlando Magic</td>\n",
       "      <td>ORL</td>\n",
       "      <td>22014</td>\n",
       "      <td>2014-10-28</td>\n",
       "      <td>0021400001</td>\n",
       "      <td>ORL @ NOP</td>\n",
       "      <td>L</td>\n",
       "      <td>84</td>\n",
       "      <td>56</td>\n",
       "      <td>5</td>\n",
       "      <td>18</td>\n",
       "      <td>17</td>\n",
       "      <td>9</td>\n",
       "      <td>40</td>\n",
       "      <td>11</td>\n",
       "      <td>4</td>\n",
       "      <td>0.364</td>\n",
       "      <td>84</td>\n",
       "      <td>32</td>\n",
       "      <td>0.381</td>\n",
       "      <td>21</td>\n",
       "      <td>16</td>\n",
       "      <td>0.762</td>\n",
       "      <td>240</td>\n",
       "      <td>16</td>\n",
       "      <td>25</td>\n",
       "      <td>-17</td>\n",
       "      <td>1</td>\n",
       "      <td>17</td>\n",
       "      <td>84</td>\n",
       "      <td>32</td>\n",
       "      <td>84</td>\n",
       "      <td>1</td>\n",
       "    </tr>\n",
       "    <tr>\n",
       "      <th>1</th>\n",
       "      <td>1610612740</td>\n",
       "      <td>New Orleans Pelicans</td>\n",
       "      <td>NOP</td>\n",
       "      <td>22014</td>\n",
       "      <td>2014-10-28</td>\n",
       "      <td>0021400001</td>\n",
       "      <td>NOP vs. ORL</td>\n",
       "      <td>W</td>\n",
       "      <td>101</td>\n",
       "      <td>62</td>\n",
       "      <td>10</td>\n",
       "      <td>9</td>\n",
       "      <td>20</td>\n",
       "      <td>17</td>\n",
       "      <td>36</td>\n",
       "      <td>17</td>\n",
       "      <td>4</td>\n",
       "      <td>0.235</td>\n",
       "      <td>101</td>\n",
       "      <td>41</td>\n",
       "      <td>0.406</td>\n",
       "      <td>31</td>\n",
       "      <td>15</td>\n",
       "      <td>0.484</td>\n",
       "      <td>240</td>\n",
       "      <td>26</td>\n",
       "      <td>17</td>\n",
       "      <td>17</td>\n",
       "      <td>1</td>\n",
       "      <td>20</td>\n",
       "      <td>101</td>\n",
       "      <td>41</td>\n",
       "      <td>101</td>\n",
       "      <td>1</td>\n",
       "    </tr>\n",
       "    <tr>\n",
       "      <th>2</th>\n",
       "      <td>1610612759</td>\n",
       "      <td>San Antonio Spurs</td>\n",
       "      <td>SAS</td>\n",
       "      <td>22014</td>\n",
       "      <td>2014-10-28</td>\n",
       "      <td>0021400002</td>\n",
       "      <td>SAS vs. DAL</td>\n",
       "      <td>W</td>\n",
       "      <td>101</td>\n",
       "      <td>38</td>\n",
       "      <td>5</td>\n",
       "      <td>21</td>\n",
       "      <td>23</td>\n",
       "      <td>3</td>\n",
       "      <td>29</td>\n",
       "      <td>28</td>\n",
       "      <td>14</td>\n",
       "      <td>0.500</td>\n",
       "      <td>70</td>\n",
       "      <td>37</td>\n",
       "      <td>0.529</td>\n",
       "      <td>16</td>\n",
       "      <td>13</td>\n",
       "      <td>0.813</td>\n",
       "      <td>240</td>\n",
       "      <td>9</td>\n",
       "      <td>20</td>\n",
       "      <td>1</td>\n",
       "      <td>1</td>\n",
       "      <td>23</td>\n",
       "      <td>70</td>\n",
       "      <td>37</td>\n",
       "      <td>101</td>\n",
       "      <td>1</td>\n",
       "    </tr>\n",
       "    <tr>\n",
       "      <th>3</th>\n",
       "      <td>1610612742</td>\n",
       "      <td>Dallas Mavericks</td>\n",
       "      <td>DAL</td>\n",
       "      <td>22014</td>\n",
       "      <td>2014-10-28</td>\n",
       "      <td>0021400002</td>\n",
       "      <td>DAL @ SAS</td>\n",
       "      <td>L</td>\n",
       "      <td>100</td>\n",
       "      <td>33</td>\n",
       "      <td>9</td>\n",
       "      <td>10</td>\n",
       "      <td>17</td>\n",
       "      <td>3</td>\n",
       "      <td>24</td>\n",
       "      <td>21</td>\n",
       "      <td>8</td>\n",
       "      <td>0.381</td>\n",
       "      <td>78</td>\n",
       "      <td>38</td>\n",
       "      <td>0.487</td>\n",
       "      <td>19</td>\n",
       "      <td>16</td>\n",
       "      <td>0.842</td>\n",
       "      <td>240</td>\n",
       "      <td>9</td>\n",
       "      <td>20</td>\n",
       "      <td>-1</td>\n",
       "      <td>1</td>\n",
       "      <td>17</td>\n",
       "      <td>78</td>\n",
       "      <td>38</td>\n",
       "      <td>100</td>\n",
       "      <td>1</td>\n",
       "    </tr>\n",
       "    <tr>\n",
       "      <th>4</th>\n",
       "      <td>1610612745</td>\n",
       "      <td>Houston Rockets</td>\n",
       "      <td>HOU</td>\n",
       "      <td>22014</td>\n",
       "      <td>2014-10-28</td>\n",
       "      <td>0021400003</td>\n",
       "      <td>HOU @ LAL</td>\n",
       "      <td>W</td>\n",
       "      <td>108</td>\n",
       "      <td>47</td>\n",
       "      <td>7</td>\n",
       "      <td>14</td>\n",
       "      <td>22</td>\n",
       "      <td>3</td>\n",
       "      <td>33</td>\n",
       "      <td>29</td>\n",
       "      <td>12</td>\n",
       "      <td>0.414</td>\n",
       "      <td>73</td>\n",
       "      <td>31</td>\n",
       "      <td>0.425</td>\n",
       "      <td>50</td>\n",
       "      <td>34</td>\n",
       "      <td>0.680</td>\n",
       "      <td>240</td>\n",
       "      <td>14</td>\n",
       "      <td>30</td>\n",
       "      <td>18</td>\n",
       "      <td>1</td>\n",
       "      <td>22</td>\n",
       "      <td>73</td>\n",
       "      <td>31</td>\n",
       "      <td>108</td>\n",
       "      <td>1</td>\n",
       "    </tr>\n",
       "  </tbody>\n",
       "</table>\n",
       "</div>"
      ],
      "text/plain": [
       "      TEAM_ID             TEAM_NAME TEAM_ABBREVIATION SEASON_ID   GAME_DATE  \\\n",
       "0  1610612753         Orlando Magic               ORL     22014  2014-10-28   \n",
       "1  1610612740  New Orleans Pelicans               NOP     22014  2014-10-28   \n",
       "2  1610612759     San Antonio Spurs               SAS     22014  2014-10-28   \n",
       "3  1610612742      Dallas Mavericks               DAL     22014  2014-10-28   \n",
       "4  1610612745       Houston Rockets               HOU     22014  2014-10-28   \n",
       "\n",
       "      GAME_ID      MATCHUP WL  PTS  REB  STL  TOV  AST  BLK  DREB  FG3A  FG3M  \\\n",
       "0  0021400001    ORL @ NOP  L   84   56    5   18   17    9    40    11     4   \n",
       "1  0021400001  NOP vs. ORL  W  101   62   10    9   20   17    36    17     4   \n",
       "2  0021400002  SAS vs. DAL  W  101   38    5   21   23    3    29    28    14   \n",
       "3  0021400002    DAL @ SAS  L  100   33    9   10   17    3    24    21     8   \n",
       "4  0021400003    HOU @ LAL  W  108   47    7   14   22    3    33    29    12   \n",
       "\n",
       "   FG3_PCT  FGA  FGM  FG_PCT  FTA  FTM  FT_PCT  MIN  OREB  PF  PLUS_MINUS  \\\n",
       "0    0.364   84   32   0.381   21   16   0.762  240    16  25         -17   \n",
       "1    0.235  101   41   0.406   31   15   0.484  240    26  17          17   \n",
       "2    0.500   70   37   0.529   16   13   0.813  240     9  20           1   \n",
       "3    0.381   78   38   0.487   19   16   0.842  240     9  20          -1   \n",
       "4    0.414   73   31   0.425   50   34   0.680  240    14  30          18   \n",
       "\n",
       "   VIDEO_AVAILABLE  AST_CUM_TOTALS  FGA_CUM_TOTALS  FGM_CUM_TOTALS  \\\n",
       "0                1              17              84              32   \n",
       "1                1              20             101              41   \n",
       "2                1              23              70              37   \n",
       "3                1              17              78              38   \n",
       "4                1              22              73              31   \n",
       "\n",
       "   PTS_CUM_TOTALS  GAME_NUMBER  \n",
       "0              84            1  \n",
       "1             101            1  \n",
       "2             101            1  \n",
       "3             100            1  \n",
       "4             108            1  "
      ]
     },
     "execution_count": 24,
     "metadata": {},
     "output_type": "execute_result"
    }
   ],
   "source": [
    "df_games.head()"
   ]
  },
  {
   "cell_type": "code",
   "execution_count": 25,
   "metadata": {
    "collapsed": false
   },
   "outputs": [],
   "source": [
    "df_games = df_games.merge(\n",
    "    (df_games\n",
    "        .groupby(['GAME_DATE'])['AST', 'FGA', 'FGM', 'REB', 'OREB', 'TOV', 'FTA', 'FTM', 'PF', 'PTS']\n",
    "        .sum()),\n",
    "    left_on='GAME_DATE', right_index=True, \n",
    "    suffixes=('', '_LEAGUE'))"
   ]
  },
  {
   "cell_type": "code",
   "execution_count": 26,
   "metadata": {
    "collapsed": false
   },
   "outputs": [],
   "source": [
    "g = df_games.groupby('GAME_DATE')['TEAM_ID'].nunique()"
   ]
  },
  {
   "cell_type": "code",
   "execution_count": 27,
   "metadata": {
    "collapsed": false
   },
   "outputs": [],
   "source": [
    "g.name = 'NUM_TEAMS'\n",
    "df_games = df_games.join(g, on='GAME_DATE')"
   ]
  },
  {
   "cell_type": "code",
   "execution_count": 28,
   "metadata": {
    "collapsed": false
   },
   "outputs": [],
   "source": [
    "cum_cols = ['AST_LEAGUE', 'FGA_LEAGUE', 'FGM_LEAGUE', 'REB_LEAGUE', \n",
    "            'OREB_LEAGUE', 'TOV_LEAGUE', 'FTA_LEAGUE', 'FTM_LEAGUE', \n",
    "            'PF_LEAGUE', 'PTS_LEAGUE', 'NUM_TEAMS']\n",
    "\n",
    "d = df_games.merge(df_games.groupby('GAME_DATE')[cum_cols].cumsum(), \n",
    "               left_index=True, right_index=True,\n",
    "               suffixes = ('', '_CUM'))"
   ]
  },
  {
   "cell_type": "code",
   "execution_count": 29,
   "metadata": {
    "collapsed": false
   },
   "outputs": [
    {
     "data": {
      "text/plain": [
       "Index([          u'TEAM_ID',         u'TEAM_NAME', u'TEAM_ABBREVIATION',\n",
       "               u'SEASON_ID',         u'GAME_DATE',           u'GAME_ID',\n",
       "                 u'MATCHUP',                u'WL',               u'PTS',\n",
       "                     u'REB',               u'STL',               u'TOV',\n",
       "                     u'AST',               u'BLK',              u'DREB',\n",
       "                    u'FG3A',              u'FG3M',           u'FG3_PCT',\n",
       "                     u'FGA',               u'FGM',            u'FG_PCT',\n",
       "                     u'FTA',               u'FTM',            u'FT_PCT',\n",
       "                     u'MIN',              u'OREB',                u'PF',\n",
       "              u'PLUS_MINUS',   u'VIDEO_AVAILABLE',    u'AST_CUM_TOTALS',\n",
       "          u'FGA_CUM_TOTALS',    u'FGM_CUM_TOTALS',    u'PTS_CUM_TOTALS',\n",
       "             u'GAME_NUMBER',        u'AST_LEAGUE',        u'FGA_LEAGUE',\n",
       "              u'FGM_LEAGUE',        u'REB_LEAGUE',       u'OREB_LEAGUE',\n",
       "              u'TOV_LEAGUE',        u'FTA_LEAGUE',        u'FTM_LEAGUE',\n",
       "               u'PF_LEAGUE',        u'PTS_LEAGUE',         u'NUM_TEAMS',\n",
       "          u'AST_LEAGUE_CUM',    u'FGA_LEAGUE_CUM',    u'FGM_LEAGUE_CUM',\n",
       "          u'FTA_LEAGUE_CUM',    u'FTM_LEAGUE_CUM',     u'NUM_TEAMS_CUM',\n",
       "         u'OREB_LEAGUE_CUM',     u'PF_LEAGUE_CUM',    u'PTS_LEAGUE_CUM',\n",
       "          u'REB_LEAGUE_CUM',    u'TOV_LEAGUE_CUM'],\n",
       "      dtype='object')"
      ]
     },
     "execution_count": 29,
     "metadata": {},
     "output_type": "execute_result"
    }
   ],
   "source": [
    "d.columns"
   ]
  },
  {
   "cell_type": "code",
   "execution_count": 30,
   "metadata": {
    "collapsed": false
   },
   "outputs": [
    {
     "name": "stdout",
     "output_type": "stream",
     "text": [
      "<class 'pandas.core.frame.DataFrame'>\n",
      "Int64Index: 2460 entries, 0 to 2459\n",
      "Columns: 56 entries, TEAM_ID to TOV_LEAGUE_CUM\n",
      "dtypes: float64(3), int64(46), object(7)\n",
      "memory usage: 1.1+ MB\n"
     ]
    }
   ],
   "source": [
    "d.info(verbose=False)"
   ]
  },
  {
   "cell_type": "code",
   "execution_count": 31,
   "metadata": {
    "collapsed": false
   },
   "outputs": [
    {
     "name": "stdout",
     "output_type": "stream",
     "text": [
      "<class 'pandas.core.frame.DataFrame'>\n",
      "Int64Index: 473 entries, 0 to 472\n",
      "Columns: 13 entries, DISPLAY_FIRST_LAST to TO_YEAR\n",
      "dtypes: int64(3), object(10)\n",
      "memory usage: 51.7+ KB\n"
     ]
    }
   ],
   "source": [
    "df_players.info(verbose=False)"
   ]
  },
  {
   "cell_type": "code",
   "execution_count": 32,
   "metadata": {
    "collapsed": false
   },
   "outputs": [
    {
     "name": "stdout",
     "output_type": "stream",
     "text": [
      "<class 'pandas.core.frame.DataFrame'>\n",
      "Int64Index: 23630 entries, 0 to 23629\n",
      "Columns: 28 entries, Player_ID to VIDEO_AVAILABLE\n",
      "dtypes: float64(3), int64(19), object(6)\n",
      "memory usage: 5.2+ MB\n"
     ]
    }
   ],
   "source": [
    "df_gamelogs.info(verbose=False)"
   ]
  },
  {
   "cell_type": "markdown",
   "metadata": {},
   "source": [
    "## Home and Away PPG"
   ]
  },
  {
   "cell_type": "code",
   "execution_count": 33,
   "metadata": {
    "collapsed": false
   },
   "outputs": [],
   "source": [
    "d = d.join(d.groupby('GAME_ID')['PTS'].sum(), on='GAME_ID', rsuffix='_GAMETOTAL')"
   ]
  },
  {
   "cell_type": "code",
   "execution_count": 34,
   "metadata": {
    "collapsed": false
   },
   "outputs": [
    {
     "data": {
      "text/plain": [
       "Index([         u'Player_ID', u'DISPLAY_FIRST_LAST',          u'SEASON_ID',\n",
       "                u'GAME_DATE',            u'Game_ID',            u'MATCHUP',\n",
       "                       u'WL',                u'PTS',                u'REB',\n",
       "                      u'STL',                u'TOV',                u'AST',\n",
       "                      u'BLK',               u'DREB',               u'FG3A',\n",
       "                     u'FG3M',            u'FG3_PCT',                u'FGA',\n",
       "                      u'FGM',             u'FG_PCT',                u'FTA',\n",
       "                      u'FTM',             u'FT_PCT',                u'MIN',\n",
       "                     u'OREB',                 u'PF',         u'PLUS_MINUS',\n",
       "          u'VIDEO_AVAILABLE'],\n",
       "      dtype='object')"
      ]
     },
     "execution_count": 34,
     "metadata": {},
     "output_type": "execute_result"
    }
   ],
   "source": [
    "df_gamelogs.columns"
   ]
  },
  {
   "cell_type": "code",
   "execution_count": 35,
   "metadata": {
    "collapsed": false
   },
   "outputs": [
    {
     "data": {
      "text/plain": [
       "Index([          u'TEAM_ID',         u'TEAM_NAME', u'TEAM_ABBREVIATION',\n",
       "               u'SEASON_ID',         u'GAME_DATE',           u'GAME_ID',\n",
       "                 u'MATCHUP',                u'WL',               u'PTS',\n",
       "                     u'REB',               u'STL',               u'TOV',\n",
       "                     u'AST',               u'BLK',              u'DREB',\n",
       "                    u'FG3A',              u'FG3M',           u'FG3_PCT',\n",
       "                     u'FGA',               u'FGM',            u'FG_PCT',\n",
       "                     u'FTA',               u'FTM',            u'FT_PCT',\n",
       "                     u'MIN',              u'OREB',                u'PF',\n",
       "              u'PLUS_MINUS',   u'VIDEO_AVAILABLE',    u'AST_CUM_TOTALS',\n",
       "          u'FGA_CUM_TOTALS',    u'FGM_CUM_TOTALS',    u'PTS_CUM_TOTALS',\n",
       "             u'GAME_NUMBER',        u'AST_LEAGUE',        u'FGA_LEAGUE',\n",
       "              u'FGM_LEAGUE',        u'REB_LEAGUE',       u'OREB_LEAGUE',\n",
       "              u'TOV_LEAGUE',        u'FTA_LEAGUE',        u'FTM_LEAGUE',\n",
       "               u'PF_LEAGUE',        u'PTS_LEAGUE',         u'NUM_TEAMS',\n",
       "          u'AST_LEAGUE_CUM',    u'FGA_LEAGUE_CUM',    u'FGM_LEAGUE_CUM',\n",
       "          u'FTA_LEAGUE_CUM',    u'FTM_LEAGUE_CUM',     u'NUM_TEAMS_CUM',\n",
       "         u'OREB_LEAGUE_CUM',     u'PF_LEAGUE_CUM',    u'PTS_LEAGUE_CUM',\n",
       "          u'REB_LEAGUE_CUM',    u'TOV_LEAGUE_CUM',     u'PTS_GAMETOTAL'],\n",
       "      dtype='object')"
      ]
     },
     "execution_count": 35,
     "metadata": {},
     "output_type": "execute_result"
    }
   ],
   "source": [
    "d.columns"
   ]
  },
  {
   "cell_type": "markdown",
   "metadata": {},
   "source": [
    "# Computing PER\n",
    "\n",
    "    uPER = (1 / MP) *\n",
    "    [ 3P\n",
    "    + (2/3) * AST\n",
    "    + (2 - factor * (team_AST / team_FG)) * FG(FT *0.5 * (1 + (1 - (team_AST / team_FG)) + (2/3) * (team_AST / team_FG))) - PF * ((lg_FT / lg_PF) - 0.44 * (lg_FTA / lg_PF) * VOP) ]\n",
    "    \n",
    "    factor = (2 / 3) - (0.5 * (lg_AST / lg_FG)) / (2 * (lg_FG / lg_FT))\n",
    "    VOP    = lg_PTS / (lg_FGA - lg_ORB + lg_TOV + 0.44 * lg_FTA)\n",
    "    DRB%   = (lg_TRB - lg_ORB) / lg_TRB\n",
    "    \n",
    "Computing PER requires the construction of several league-wide statistics. I'm not sure if the league aggregations are updated as the season progresses or if they are relative to the day the game was played. To this point, I'll compute various possibilities, and use each of them in a separate PER rating."
   ]
  },
  {
   "cell_type": "code",
   "execution_count": 36,
   "metadata": {
    "collapsed": true
   },
   "outputs": [],
   "source": [
    "def compute_FTM_PF(row):\n",
    "    return row['FTM_LEAGUE_CUM']/row['PF_LEAGUE_CUM']\n",
    "\n",
    "def compute_FTA_PF(row):\n",
    "    return row['FTA_LEAGUE_CUM']/row['PF_LEAGUE_CUM']"
   ]
  },
  {
   "cell_type": "code",
   "execution_count": 37,
   "metadata": {
    "collapsed": true
   },
   "outputs": [],
   "source": [
    "def compute_factor(row):\n",
    "    return (2/3) - (.5*row['AST_LEAGUE_CUM']/row['FGM_LEAGUE_CUM']/(2*row['FGM_LEAGUE_CUM']/row['FTM_LEAGUE_CUM']))"
   ]
  },
  {
   "cell_type": "code",
   "execution_count": 38,
   "metadata": {
    "collapsed": true
   },
   "outputs": [],
   "source": [
    "def compute_VOP(row):\n",
    "    return row['PTS_LEAGUE_CUM']/(row['FGA_LEAGUE_CUM']-row['OREB_LEAGUE_CUM']+row['TOV_LEAGUE_CUM']+0.44*row['FTA_LEAGUE_CUM'])"
   ]
  },
  {
   "cell_type": "code",
   "execution_count": 39,
   "metadata": {
    "collapsed": true
   },
   "outputs": [],
   "source": [
    "def compute_DRB(row):\n",
    "    return (row['REB_LEAGUE_CUM']-row['OREB_LEAGUE_CUM'])/row['REB_LEAGUE_CUM']"
   ]
  },
  {
   "cell_type": "code",
   "execution_count": 40,
   "metadata": {
    "collapsed": true
   },
   "outputs": [],
   "source": [
    "d['FACTOR'] = d.apply(compute_factor, axis = 1)\n",
    "d['VOP'] = d.apply(compute_VOP, axis = 1)\n",
    "d['DRB_PCT'] = d.apply(compute_DRB, axis = 1)\n",
    "d['FTM_PF'] = d.apply(compute_FTM_PF, axis = 1)\n",
    "d['FTA_PF'] = d.apply(compute_FTA_PF, axis = 1)"
   ]
  },
  {
   "cell_type": "code",
   "execution_count": 41,
   "metadata": {
    "collapsed": false
   },
   "outputs": [],
   "source": [
    "d['PACE_ADJUST'] = (2*d.PTS_LEAGUE_CUM/d.NUM_TEAMS_CUM)/d.PTS_GAMETOTAL"
   ]
  },
  {
   "cell_type": "code",
   "execution_count": null,
   "metadata": {
    "collapsed": true
   },
   "outputs": [],
   "source": []
  },
  {
   "cell_type": "code",
   "execution_count": 42,
   "metadata": {
    "collapsed": true
   },
   "outputs": [],
   "source": [
    "def compute_assisted_FG(row):\n",
    "    return row['AST_TEAM_DAILY']/row['FGM_TEAM_DAILY']"
   ]
  },
  {
   "cell_type": "code",
   "execution_count": 43,
   "metadata": {
    "collapsed": true
   },
   "outputs": [],
   "source": [
    "log_cols = ['Player_ID', 'DISPLAY_FIRST_LAST', 'Game_ID', 'MATCHUP', 'GAME_DATE',\n",
    "            'MIN', 'FG3M', 'AST', 'FGM', 'FTM',\n",
    "            'TOV', 'FGA', 'FTA', 'FTM', 'REB', \n",
    "            'OREB', 'STL', 'BLK', 'PF']"
   ]
  },
  {
   "cell_type": "code",
   "execution_count": 44,
   "metadata": {
    "collapsed": true
   },
   "outputs": [],
   "source": [
    "game_cols = ['GAME_ID', 'MATCHUP','VOP', 'FACTOR', 'DRB_PCT', 'FTM_PF', 'FTA_PF', 'PACE_ADJUST']"
   ]
  },
  {
   "cell_type": "code",
   "execution_count": 45,
   "metadata": {
    "collapsed": true
   },
   "outputs": [],
   "source": [
    "df_PER = (df_gamelogs[log_cols]\n",
    "    .merge(d[game_cols], left_on=['Game_ID', 'MATCHUP'], right_on=['GAME_ID', 'MATCHUP'])\n",
    "    .merge(d[['GAME_ID', 'MATCHUP', 'AST', 'FGM']], left_on=['Game_ID', 'MATCHUP'], right_on=['GAME_ID', 'MATCHUP'], suffixes=('', '_TEAM_DAILY')))"
   ]
  },
  {
   "cell_type": "code",
   "execution_count": 46,
   "metadata": {
    "collapsed": false
   },
   "outputs": [
    {
     "data": {
      "text/html": [
       "<div>\n",
       "<table border=\"1\" class=\"dataframe\">\n",
       "  <thead>\n",
       "    <tr style=\"text-align: right;\">\n",
       "      <th></th>\n",
       "      <th>Player_ID</th>\n",
       "      <th>DISPLAY_FIRST_LAST</th>\n",
       "      <th>Game_ID</th>\n",
       "      <th>MATCHUP</th>\n",
       "      <th>GAME_DATE</th>\n",
       "      <th>MIN</th>\n",
       "      <th>FG3M</th>\n",
       "      <th>AST</th>\n",
       "      <th>FGM</th>\n",
       "      <th>FTM</th>\n",
       "      <th>TOV</th>\n",
       "      <th>FGA</th>\n",
       "      <th>FTA</th>\n",
       "      <th>FTM</th>\n",
       "      <th>REB</th>\n",
       "      <th>OREB</th>\n",
       "      <th>STL</th>\n",
       "      <th>BLK</th>\n",
       "      <th>PF</th>\n",
       "      <th>GAME_ID</th>\n",
       "      <th>VOP</th>\n",
       "      <th>FACTOR</th>\n",
       "      <th>DRB_PCT</th>\n",
       "      <th>FTM_PF</th>\n",
       "      <th>FTA_PF</th>\n",
       "      <th>PACE_ADJUST</th>\n",
       "      <th>GAME_ID_TEAM_DAILY</th>\n",
       "      <th>AST_TEAM_DAILY</th>\n",
       "      <th>FGM_TEAM_DAILY</th>\n",
       "    </tr>\n",
       "  </thead>\n",
       "  <tbody>\n",
       "    <tr>\n",
       "      <th>0</th>\n",
       "      <td>203092</td>\n",
       "      <td>Tyler Zeller</td>\n",
       "      <td>0021401221</td>\n",
       "      <td>BOS @ MIL</td>\n",
       "      <td>APR 15, 2015</td>\n",
       "      <td>14</td>\n",
       "      <td>0</td>\n",
       "      <td>1</td>\n",
       "      <td>4</td>\n",
       "      <td>0</td>\n",
       "      <td>0</td>\n",
       "      <td>7</td>\n",
       "      <td>0</td>\n",
       "      <td>0</td>\n",
       "      <td>3</td>\n",
       "      <td>2</td>\n",
       "      <td>0</td>\n",
       "      <td>0</td>\n",
       "      <td>1</td>\n",
       "      <td>0021401221</td>\n",
       "      <td>1.050759</td>\n",
       "      <td>0.604605</td>\n",
       "      <td>0.745394</td>\n",
       "      <td>0.874296</td>\n",
       "      <td>1.202627</td>\n",
       "      <td>1.016725</td>\n",
       "      <td>0021401221</td>\n",
       "      <td>37</td>\n",
       "      <td>42</td>\n",
       "    </tr>\n",
       "    <tr>\n",
       "      <th>1</th>\n",
       "      <td>203923</td>\n",
       "      <td>James Young</td>\n",
       "      <td>0021401221</td>\n",
       "      <td>BOS @ MIL</td>\n",
       "      <td>APR 15, 2015</td>\n",
       "      <td>24</td>\n",
       "      <td>1</td>\n",
       "      <td>2</td>\n",
       "      <td>3</td>\n",
       "      <td>2</td>\n",
       "      <td>0</td>\n",
       "      <td>7</td>\n",
       "      <td>4</td>\n",
       "      <td>2</td>\n",
       "      <td>1</td>\n",
       "      <td>0</td>\n",
       "      <td>0</td>\n",
       "      <td>0</td>\n",
       "      <td>3</td>\n",
       "      <td>0021401221</td>\n",
       "      <td>1.050759</td>\n",
       "      <td>0.604605</td>\n",
       "      <td>0.745394</td>\n",
       "      <td>0.874296</td>\n",
       "      <td>1.202627</td>\n",
       "      <td>1.016725</td>\n",
       "      <td>0021401221</td>\n",
       "      <td>37</td>\n",
       "      <td>42</td>\n",
       "    </tr>\n",
       "    <tr>\n",
       "      <th>2</th>\n",
       "      <td>202323</td>\n",
       "      <td>Evan Turner</td>\n",
       "      <td>0021401221</td>\n",
       "      <td>BOS @ MIL</td>\n",
       "      <td>APR 15, 2015</td>\n",
       "      <td>18</td>\n",
       "      <td>0</td>\n",
       "      <td>6</td>\n",
       "      <td>3</td>\n",
       "      <td>1</td>\n",
       "      <td>3</td>\n",
       "      <td>5</td>\n",
       "      <td>2</td>\n",
       "      <td>1</td>\n",
       "      <td>2</td>\n",
       "      <td>0</td>\n",
       "      <td>1</td>\n",
       "      <td>0</td>\n",
       "      <td>1</td>\n",
       "      <td>0021401221</td>\n",
       "      <td>1.050759</td>\n",
       "      <td>0.604605</td>\n",
       "      <td>0.745394</td>\n",
       "      <td>0.874296</td>\n",
       "      <td>1.202627</td>\n",
       "      <td>1.016725</td>\n",
       "      <td>0021401221</td>\n",
       "      <td>37</td>\n",
       "      <td>42</td>\n",
       "    </tr>\n",
       "    <tr>\n",
       "      <th>3</th>\n",
       "      <td>203096</td>\n",
       "      <td>Jared Sullinger</td>\n",
       "      <td>0021401221</td>\n",
       "      <td>BOS @ MIL</td>\n",
       "      <td>APR 15, 2015</td>\n",
       "      <td>28</td>\n",
       "      <td>1</td>\n",
       "      <td>4</td>\n",
       "      <td>5</td>\n",
       "      <td>0</td>\n",
       "      <td>2</td>\n",
       "      <td>14</td>\n",
       "      <td>2</td>\n",
       "      <td>0</td>\n",
       "      <td>4</td>\n",
       "      <td>1</td>\n",
       "      <td>1</td>\n",
       "      <td>3</td>\n",
       "      <td>2</td>\n",
       "      <td>0021401221</td>\n",
       "      <td>1.050759</td>\n",
       "      <td>0.604605</td>\n",
       "      <td>0.745394</td>\n",
       "      <td>0.874296</td>\n",
       "      <td>1.202627</td>\n",
       "      <td>1.016725</td>\n",
       "      <td>0021401221</td>\n",
       "      <td>37</td>\n",
       "      <td>42</td>\n",
       "    </tr>\n",
       "    <tr>\n",
       "      <th>4</th>\n",
       "      <td>203935</td>\n",
       "      <td>Marcus Smart</td>\n",
       "      <td>0021401221</td>\n",
       "      <td>BOS @ MIL</td>\n",
       "      <td>APR 15, 2015</td>\n",
       "      <td>24</td>\n",
       "      <td>2</td>\n",
       "      <td>6</td>\n",
       "      <td>2</td>\n",
       "      <td>1</td>\n",
       "      <td>0</td>\n",
       "      <td>5</td>\n",
       "      <td>2</td>\n",
       "      <td>1</td>\n",
       "      <td>4</td>\n",
       "      <td>1</td>\n",
       "      <td>3</td>\n",
       "      <td>1</td>\n",
       "      <td>1</td>\n",
       "      <td>0021401221</td>\n",
       "      <td>1.050759</td>\n",
       "      <td>0.604605</td>\n",
       "      <td>0.745394</td>\n",
       "      <td>0.874296</td>\n",
       "      <td>1.202627</td>\n",
       "      <td>1.016725</td>\n",
       "      <td>0021401221</td>\n",
       "      <td>37</td>\n",
       "      <td>42</td>\n",
       "    </tr>\n",
       "  </tbody>\n",
       "</table>\n",
       "</div>"
      ],
      "text/plain": [
       "   Player_ID DISPLAY_FIRST_LAST     Game_ID    MATCHUP     GAME_DATE  MIN  \\\n",
       "0     203092       Tyler Zeller  0021401221  BOS @ MIL  APR 15, 2015   14   \n",
       "1     203923        James Young  0021401221  BOS @ MIL  APR 15, 2015   24   \n",
       "2     202323        Evan Turner  0021401221  BOS @ MIL  APR 15, 2015   18   \n",
       "3     203096    Jared Sullinger  0021401221  BOS @ MIL  APR 15, 2015   28   \n",
       "4     203935       Marcus Smart  0021401221  BOS @ MIL  APR 15, 2015   24   \n",
       "\n",
       "   FG3M  AST  FGM  FTM  TOV  FGA  FTA  FTM  REB  OREB  STL  BLK  PF  \\\n",
       "0     0    1    4    0    0    7    0    0    3     2    0    0   1   \n",
       "1     1    2    3    2    0    7    4    2    1     0    0    0   3   \n",
       "2     0    6    3    1    3    5    2    1    2     0    1    0   1   \n",
       "3     1    4    5    0    2   14    2    0    4     1    1    3   2   \n",
       "4     2    6    2    1    0    5    2    1    4     1    3    1   1   \n",
       "\n",
       "      GAME_ID       VOP    FACTOR   DRB_PCT    FTM_PF    FTA_PF  PACE_ADJUST  \\\n",
       "0  0021401221  1.050759  0.604605  0.745394  0.874296  1.202627     1.016725   \n",
       "1  0021401221  1.050759  0.604605  0.745394  0.874296  1.202627     1.016725   \n",
       "2  0021401221  1.050759  0.604605  0.745394  0.874296  1.202627     1.016725   \n",
       "3  0021401221  1.050759  0.604605  0.745394  0.874296  1.202627     1.016725   \n",
       "4  0021401221  1.050759  0.604605  0.745394  0.874296  1.202627     1.016725   \n",
       "\n",
       "  GAME_ID_TEAM_DAILY  AST_TEAM_DAILY  FGM_TEAM_DAILY  \n",
       "0         0021401221              37              42  \n",
       "1         0021401221              37              42  \n",
       "2         0021401221              37              42  \n",
       "3         0021401221              37              42  \n",
       "4         0021401221              37              42  "
      ]
     },
     "execution_count": 46,
     "metadata": {},
     "output_type": "execute_result"
    }
   ],
   "source": [
    "df_PER.head()"
   ]
  },
  {
   "cell_type": "code",
   "execution_count": 47,
   "metadata": {
    "collapsed": false
   },
   "outputs": [],
   "source": [
    "def line_1(row):\n",
    "    return 1/row['MIN']\n",
    "\n",
    "def line_2(row):\n",
    "    return row['FG3M']\n",
    "\n",
    "def line_3(row):\n",
    "    return 2/3*row['AST']\n",
    "\n",
    "def line_4(row):\n",
    "    return (2 - row['FACTOR'] * compute_assisted_FG(row)) * row['FGM']\n",
    "\n",
    "def line_5a(row):\n",
    "    return row['FTM']*.5\n",
    "\n",
    "def line_5b(row):\n",
    "    return 1 + (1 - compute_assisted_FG(row))\n",
    "\n",
    "def line_5c(row):\n",
    "    return 2/3*compute_assisted_FG(row)\n",
    "\n",
    "def line_5(row):\n",
    "    return line_5a(row)*line_5b(row) + line_5c(row)\n",
    "\n",
    "def line_6(row):\n",
    "    return row['VOP']*row['TOV']\n",
    "\n",
    "def line_7(row):\n",
    "    return row['VOP']*row['DRB_PCT']*(row['FGA'] - row['FGM'])\n",
    "\n",
    "def line_8(row):\n",
    "    return row['VOP']*.44*(.44 + (.56*row['DRB_PCT']))*(row['FTA']-row['FTM'])\n",
    "\n",
    "def line_9(row):\n",
    "    return row['VOP']*(1 - row['DRB_PCT'])*(row['REB']-row['OREB'])\n",
    "\n",
    "def line_10(row):\n",
    "    return row['VOP']*row['DRB_PCT']*row['OREB']\n",
    "\n",
    "def line_11(row):\n",
    "    return row['VOP']*row['STL']\n",
    "\n",
    "def line_12(row):\n",
    "    return row['VOP']*row['DRB_PCT']*row['BLK']\n",
    "\n",
    "def line_13(row):\n",
    "    return row['PF']*(row['FTM_PF'] - .44*row['FTA_PF']*row['VOP'])"
   ]
  },
  {
   "cell_type": "code",
   "execution_count": 48,
   "metadata": {
    "collapsed": false
   },
   "outputs": [],
   "source": [
    "def uPER(row):\n",
    "    uPER = (line_2(row) + \n",
    "        line_3(row) + \n",
    "        line_4(row) + \n",
    "        line_5(row) -\n",
    "        line_6(row) -\n",
    "        line_7(row) -\n",
    "        line_8(row) +\n",
    "        line_9(row) +\n",
    "        line_10(row)+\n",
    "        line_11(row)+\n",
    "        line_12(row)-\n",
    "        line_13(row))\n",
    "    return uPER[0]"
   ]
  },
  {
   "cell_type": "code",
   "execution_count": 49,
   "metadata": {
    "collapsed": false,
    "scrolled": false
   },
   "outputs": [],
   "source": [
    "df_PER['uPER'] = df_PER.apply(uPER, axis = 1)"
   ]
  },
  {
   "cell_type": "code",
   "execution_count": 50,
   "metadata": {
    "collapsed": false
   },
   "outputs": [],
   "source": [
    "df_PER['aPER'] = df_PER.uPER*df_PER.PACE_ADJUST"
   ]
  },
  {
   "cell_type": "code",
   "execution_count": 51,
   "metadata": {
    "collapsed": true
   },
   "outputs": [],
   "source": [
    "df_PER['PER'] = 0"
   ]
  },
  {
   "cell_type": "code",
   "execution_count": 52,
   "metadata": {
    "collapsed": true
   },
   "outputs": [],
   "source": [
    "df_PER.loc[df_PER.MIN > 0, 'PER'] = df_PER.loc[df_PER.MIN > 0, 'aPER']/df_PER.loc[df_PER.MIN > 0, 'MIN']"
   ]
  },
  {
   "cell_type": "code",
   "execution_count": 61,
   "metadata": {
    "collapsed": false
   },
   "outputs": [
    {
     "data": {
      "text/html": [
       "<div>\n",
       "<table border=\"1\" class=\"dataframe\">\n",
       "  <thead>\n",
       "    <tr style=\"text-align: right;\">\n",
       "      <th></th>\n",
       "      <th>Player_ID</th>\n",
       "      <th>DISPLAY_FIRST_LAST</th>\n",
       "      <th>Game_ID</th>\n",
       "      <th>MATCHUP</th>\n",
       "      <th>GAME_DATE</th>\n",
       "      <th>MIN</th>\n",
       "      <th>FG3M</th>\n",
       "      <th>AST</th>\n",
       "      <th>FGM</th>\n",
       "      <th>FTM</th>\n",
       "      <th>TOV</th>\n",
       "      <th>FGA</th>\n",
       "      <th>FTA</th>\n",
       "      <th>FTM</th>\n",
       "      <th>REB</th>\n",
       "      <th>OREB</th>\n",
       "      <th>STL</th>\n",
       "      <th>BLK</th>\n",
       "      <th>PF</th>\n",
       "      <th>GAME_ID</th>\n",
       "      <th>VOP</th>\n",
       "      <th>FACTOR</th>\n",
       "      <th>DRB_PCT</th>\n",
       "      <th>FTM_PF</th>\n",
       "      <th>FTA_PF</th>\n",
       "      <th>PACE_ADJUST</th>\n",
       "      <th>GAME_ID_TEAM_DAILY</th>\n",
       "      <th>AST_TEAM_DAILY</th>\n",
       "      <th>FGM_TEAM_DAILY</th>\n",
       "      <th>uPER</th>\n",
       "      <th>aPER</th>\n",
       "      <th>PER</th>\n",
       "    </tr>\n",
       "  </thead>\n",
       "  <tbody>\n",
       "    <tr>\n",
       "      <th>0</th>\n",
       "      <td>203092</td>\n",
       "      <td>Tyler Zeller</td>\n",
       "      <td>0021401221</td>\n",
       "      <td>BOS @ MIL</td>\n",
       "      <td>2015-04-15</td>\n",
       "      <td>14</td>\n",
       "      <td>0</td>\n",
       "      <td>1</td>\n",
       "      <td>4</td>\n",
       "      <td>0</td>\n",
       "      <td>0</td>\n",
       "      <td>7</td>\n",
       "      <td>0</td>\n",
       "      <td>0</td>\n",
       "      <td>3</td>\n",
       "      <td>2</td>\n",
       "      <td>0</td>\n",
       "      <td>0</td>\n",
       "      <td>1</td>\n",
       "      <td>0021401221</td>\n",
       "      <td>1.050759</td>\n",
       "      <td>0.604605</td>\n",
       "      <td>0.745394</td>\n",
       "      <td>0.874296</td>\n",
       "      <td>1.202627</td>\n",
       "      <td>1.016725</td>\n",
       "      <td>0021401221</td>\n",
       "      <td>37</td>\n",
       "      <td>42</td>\n",
       "      <td>6.289475</td>\n",
       "      <td>6.394665</td>\n",
       "      <td>0.456762</td>\n",
       "    </tr>\n",
       "    <tr>\n",
       "      <th>1</th>\n",
       "      <td>203923</td>\n",
       "      <td>James Young</td>\n",
       "      <td>0021401221</td>\n",
       "      <td>BOS @ MIL</td>\n",
       "      <td>2015-04-15</td>\n",
       "      <td>24</td>\n",
       "      <td>1</td>\n",
       "      <td>2</td>\n",
       "      <td>3</td>\n",
       "      <td>2</td>\n",
       "      <td>0</td>\n",
       "      <td>7</td>\n",
       "      <td>4</td>\n",
       "      <td>2</td>\n",
       "      <td>1</td>\n",
       "      <td>0</td>\n",
       "      <td>0</td>\n",
       "      <td>0</td>\n",
       "      <td>3</td>\n",
       "      <td>0021401221</td>\n",
       "      <td>1.050759</td>\n",
       "      <td>0.604605</td>\n",
       "      <td>0.745394</td>\n",
       "      <td>0.874296</td>\n",
       "      <td>1.202627</td>\n",
       "      <td>1.016725</td>\n",
       "      <td>0021401221</td>\n",
       "      <td>37</td>\n",
       "      <td>42</td>\n",
       "      <td>3.828739</td>\n",
       "      <td>3.892773</td>\n",
       "      <td>0.162199</td>\n",
       "    </tr>\n",
       "    <tr>\n",
       "      <th>2</th>\n",
       "      <td>202323</td>\n",
       "      <td>Evan Turner</td>\n",
       "      <td>0021401221</td>\n",
       "      <td>BOS @ MIL</td>\n",
       "      <td>2015-04-15</td>\n",
       "      <td>18</td>\n",
       "      <td>0</td>\n",
       "      <td>6</td>\n",
       "      <td>3</td>\n",
       "      <td>1</td>\n",
       "      <td>3</td>\n",
       "      <td>5</td>\n",
       "      <td>2</td>\n",
       "      <td>1</td>\n",
       "      <td>2</td>\n",
       "      <td>0</td>\n",
       "      <td>1</td>\n",
       "      <td>0</td>\n",
       "      <td>1</td>\n",
       "      <td>0021401221</td>\n",
       "      <td>1.050759</td>\n",
       "      <td>0.604605</td>\n",
       "      <td>0.745394</td>\n",
       "      <td>0.874296</td>\n",
       "      <td>1.202627</td>\n",
       "      <td>1.016725</td>\n",
       "      <td>0021401221</td>\n",
       "      <td>37</td>\n",
       "      <td>42</td>\n",
       "      <td>5.701329</td>\n",
       "      <td>5.796682</td>\n",
       "      <td>0.322038</td>\n",
       "    </tr>\n",
       "    <tr>\n",
       "      <th>3</th>\n",
       "      <td>203096</td>\n",
       "      <td>Jared Sullinger</td>\n",
       "      <td>0021401221</td>\n",
       "      <td>BOS @ MIL</td>\n",
       "      <td>2015-04-15</td>\n",
       "      <td>28</td>\n",
       "      <td>1</td>\n",
       "      <td>4</td>\n",
       "      <td>5</td>\n",
       "      <td>0</td>\n",
       "      <td>2</td>\n",
       "      <td>14</td>\n",
       "      <td>2</td>\n",
       "      <td>0</td>\n",
       "      <td>4</td>\n",
       "      <td>1</td>\n",
       "      <td>1</td>\n",
       "      <td>3</td>\n",
       "      <td>2</td>\n",
       "      <td>0021401221</td>\n",
       "      <td>1.050759</td>\n",
       "      <td>0.604605</td>\n",
       "      <td>0.745394</td>\n",
       "      <td>0.874296</td>\n",
       "      <td>1.202627</td>\n",
       "      <td>1.016725</td>\n",
       "      <td>0021401221</td>\n",
       "      <td>37</td>\n",
       "      <td>42</td>\n",
       "      <td>5.997121</td>\n",
       "      <td>6.097421</td>\n",
       "      <td>0.217765</td>\n",
       "    </tr>\n",
       "    <tr>\n",
       "      <th>4</th>\n",
       "      <td>203935</td>\n",
       "      <td>Marcus Smart</td>\n",
       "      <td>0021401221</td>\n",
       "      <td>BOS @ MIL</td>\n",
       "      <td>2015-04-15</td>\n",
       "      <td>24</td>\n",
       "      <td>2</td>\n",
       "      <td>6</td>\n",
       "      <td>2</td>\n",
       "      <td>1</td>\n",
       "      <td>0</td>\n",
       "      <td>5</td>\n",
       "      <td>2</td>\n",
       "      <td>1</td>\n",
       "      <td>4</td>\n",
       "      <td>1</td>\n",
       "      <td>3</td>\n",
       "      <td>1</td>\n",
       "      <td>1</td>\n",
       "      <td>0021401221</td>\n",
       "      <td>1.050759</td>\n",
       "      <td>0.604605</td>\n",
       "      <td>0.745394</td>\n",
       "      <td>0.874296</td>\n",
       "      <td>1.202627</td>\n",
       "      <td>1.016725</td>\n",
       "      <td>0021401221</td>\n",
       "      <td>37</td>\n",
       "      <td>42</td>\n",
       "      <td>12.538511</td>\n",
       "      <td>12.748215</td>\n",
       "      <td>0.531176</td>\n",
       "    </tr>\n",
       "  </tbody>\n",
       "</table>\n",
       "</div>"
      ],
      "text/plain": [
       "   Player_ID DISPLAY_FIRST_LAST     Game_ID    MATCHUP  GAME_DATE  MIN  FG3M  \\\n",
       "0     203092       Tyler Zeller  0021401221  BOS @ MIL 2015-04-15   14     0   \n",
       "1     203923        James Young  0021401221  BOS @ MIL 2015-04-15   24     1   \n",
       "2     202323        Evan Turner  0021401221  BOS @ MIL 2015-04-15   18     0   \n",
       "3     203096    Jared Sullinger  0021401221  BOS @ MIL 2015-04-15   28     1   \n",
       "4     203935       Marcus Smart  0021401221  BOS @ MIL 2015-04-15   24     2   \n",
       "\n",
       "   AST  FGM  FTM  TOV  FGA  FTA  FTM  REB  OREB  STL  BLK  PF     GAME_ID  \\\n",
       "0    1    4    0    0    7    0    0    3     2    0    0   1  0021401221   \n",
       "1    2    3    2    0    7    4    2    1     0    0    0   3  0021401221   \n",
       "2    6    3    1    3    5    2    1    2     0    1    0   1  0021401221   \n",
       "3    4    5    0    2   14    2    0    4     1    1    3   2  0021401221   \n",
       "4    6    2    1    0    5    2    1    4     1    3    1   1  0021401221   \n",
       "\n",
       "        VOP    FACTOR   DRB_PCT    FTM_PF    FTA_PF  PACE_ADJUST  \\\n",
       "0  1.050759  0.604605  0.745394  0.874296  1.202627     1.016725   \n",
       "1  1.050759  0.604605  0.745394  0.874296  1.202627     1.016725   \n",
       "2  1.050759  0.604605  0.745394  0.874296  1.202627     1.016725   \n",
       "3  1.050759  0.604605  0.745394  0.874296  1.202627     1.016725   \n",
       "4  1.050759  0.604605  0.745394  0.874296  1.202627     1.016725   \n",
       "\n",
       "  GAME_ID_TEAM_DAILY  AST_TEAM_DAILY  FGM_TEAM_DAILY       uPER       aPER  \\\n",
       "0         0021401221              37              42   6.289475   6.394665   \n",
       "1         0021401221              37              42   3.828739   3.892773   \n",
       "2         0021401221              37              42   5.701329   5.796682   \n",
       "3         0021401221              37              42   5.997121   6.097421   \n",
       "4         0021401221              37              42  12.538511  12.748215   \n",
       "\n",
       "        PER  \n",
       "0  0.456762  \n",
       "1  0.162199  \n",
       "2  0.322038  \n",
       "3  0.217765  \n",
       "4  0.531176  "
      ]
     },
     "execution_count": 61,
     "metadata": {},
     "output_type": "execute_result"
    }
   ],
   "source": [
    "df_PER.head()"
   ]
  },
  {
   "cell_type": "code",
   "execution_count": 54,
   "metadata": {
    "collapsed": true
   },
   "outputs": [],
   "source": [
    "df_PER['GAME_DATE'] = pd.to_datetime(df_PER.GAME_DATE)"
   ]
  },
  {
   "cell_type": "code",
   "execution_count": 55,
   "metadata": {
    "collapsed": true
   },
   "outputs": [],
   "source": [
    "df_min_filter = df_PER.loc[df_PER.MIN >=8].drop(['PER_CUM_SUM', 'PER_CUM_COUNT'], axis=1)"
   ]
  },
  {
   "cell_type": "code",
   "execution_count": 56,
   "metadata": {
    "collapsed": false
   },
   "outputs": [],
   "source": [
    "df_min_filter = (df_min_filter\n",
    "    .join(df_min_filter.sort_values('GAME_DATE').groupby('GAME_DATE').PER.sum().cumsum(), on='GAME_DATE', rsuffix='_CUM_SUM')\n",
    "    .join(df_min_filter.sort_values('GAME_DATE').groupby('GAME_DATE').PER.count().cumsum(), on='GAME_DATE', rsuffix='_CUM_COUNT'))"
   ]
  },
  {
   "cell_type": "raw",
   "metadata": {},
   "source": [
    "df_min_filter.drop(['PER_CUM_SUM', 'PER_CUM_COUNT'], axis=1,inplace=True)"
   ]
  },
  {
   "cell_type": "code",
   "execution_count": 57,
   "metadata": {
    "collapsed": false
   },
   "outputs": [],
   "source": [
    "df_min_filter['AVG_PER'] = df_min_filter['PER_CUM_SUM']/df_min_filter['PER_CUM_COUNT']"
   ]
  },
  {
   "cell_type": "code",
   "execution_count": 62,
   "metadata": {
    "collapsed": false
   },
   "outputs": [
    {
     "data": {
      "text/html": [
       "<div>\n",
       "<table border=\"1\" class=\"dataframe\">\n",
       "  <thead>\n",
       "    <tr style=\"text-align: right;\">\n",
       "      <th></th>\n",
       "      <th>Player_ID</th>\n",
       "      <th>DISPLAY_FIRST_LAST</th>\n",
       "      <th>Game_ID</th>\n",
       "      <th>MATCHUP</th>\n",
       "      <th>GAME_DATE</th>\n",
       "      <th>MIN</th>\n",
       "      <th>FG3M</th>\n",
       "      <th>AST</th>\n",
       "      <th>FGM</th>\n",
       "      <th>FTM</th>\n",
       "      <th>TOV</th>\n",
       "      <th>FGA</th>\n",
       "      <th>FTA</th>\n",
       "      <th>FTM</th>\n",
       "      <th>REB</th>\n",
       "      <th>OREB</th>\n",
       "      <th>STL</th>\n",
       "      <th>BLK</th>\n",
       "      <th>PF</th>\n",
       "      <th>GAME_ID</th>\n",
       "      <th>VOP</th>\n",
       "      <th>FACTOR</th>\n",
       "      <th>DRB_PCT</th>\n",
       "      <th>FTM_PF</th>\n",
       "      <th>FTA_PF</th>\n",
       "      <th>PACE_ADJUST</th>\n",
       "      <th>GAME_ID_TEAM_DAILY</th>\n",
       "      <th>AST_TEAM_DAILY</th>\n",
       "      <th>FGM_TEAM_DAILY</th>\n",
       "      <th>uPER</th>\n",
       "      <th>aPER</th>\n",
       "      <th>PER</th>\n",
       "      <th>PER_CUM_SUM</th>\n",
       "      <th>PER_CUM_COUNT</th>\n",
       "      <th>AVG_PER</th>\n",
       "      <th>HollingerPER</th>\n",
       "    </tr>\n",
       "  </thead>\n",
       "  <tbody>\n",
       "    <tr>\n",
       "      <th>0</th>\n",
       "      <td>203092</td>\n",
       "      <td>Tyler Zeller</td>\n",
       "      <td>0021401221</td>\n",
       "      <td>BOS @ MIL</td>\n",
       "      <td>2015-04-15</td>\n",
       "      <td>14</td>\n",
       "      <td>0</td>\n",
       "      <td>1</td>\n",
       "      <td>4</td>\n",
       "      <td>0</td>\n",
       "      <td>0</td>\n",
       "      <td>7</td>\n",
       "      <td>0</td>\n",
       "      <td>0</td>\n",
       "      <td>3</td>\n",
       "      <td>2</td>\n",
       "      <td>0</td>\n",
       "      <td>0</td>\n",
       "      <td>1</td>\n",
       "      <td>0021401221</td>\n",
       "      <td>1.050759</td>\n",
       "      <td>0.604605</td>\n",
       "      <td>0.745394</td>\n",
       "      <td>0.874296</td>\n",
       "      <td>1.202627</td>\n",
       "      <td>1.016725</td>\n",
       "      <td>0021401221</td>\n",
       "      <td>37</td>\n",
       "      <td>42</td>\n",
       "      <td>6.289475</td>\n",
       "      <td>6.394665</td>\n",
       "      <td>0.456762</td>\n",
       "      <td>6045.023742</td>\n",
       "      <td>21669</td>\n",
       "      <td>0.278971</td>\n",
       "      <td>24.559634</td>\n",
       "    </tr>\n",
       "    <tr>\n",
       "      <th>1</th>\n",
       "      <td>203923</td>\n",
       "      <td>James Young</td>\n",
       "      <td>0021401221</td>\n",
       "      <td>BOS @ MIL</td>\n",
       "      <td>2015-04-15</td>\n",
       "      <td>24</td>\n",
       "      <td>1</td>\n",
       "      <td>2</td>\n",
       "      <td>3</td>\n",
       "      <td>2</td>\n",
       "      <td>0</td>\n",
       "      <td>7</td>\n",
       "      <td>4</td>\n",
       "      <td>2</td>\n",
       "      <td>1</td>\n",
       "      <td>0</td>\n",
       "      <td>0</td>\n",
       "      <td>0</td>\n",
       "      <td>3</td>\n",
       "      <td>0021401221</td>\n",
       "      <td>1.050759</td>\n",
       "      <td>0.604605</td>\n",
       "      <td>0.745394</td>\n",
       "      <td>0.874296</td>\n",
       "      <td>1.202627</td>\n",
       "      <td>1.016725</td>\n",
       "      <td>0021401221</td>\n",
       "      <td>37</td>\n",
       "      <td>42</td>\n",
       "      <td>3.828739</td>\n",
       "      <td>3.892773</td>\n",
       "      <td>0.162199</td>\n",
       "      <td>6045.023742</td>\n",
       "      <td>21669</td>\n",
       "      <td>0.278971</td>\n",
       "      <td>8.721275</td>\n",
       "    </tr>\n",
       "    <tr>\n",
       "      <th>2</th>\n",
       "      <td>202323</td>\n",
       "      <td>Evan Turner</td>\n",
       "      <td>0021401221</td>\n",
       "      <td>BOS @ MIL</td>\n",
       "      <td>2015-04-15</td>\n",
       "      <td>18</td>\n",
       "      <td>0</td>\n",
       "      <td>6</td>\n",
       "      <td>3</td>\n",
       "      <td>1</td>\n",
       "      <td>3</td>\n",
       "      <td>5</td>\n",
       "      <td>2</td>\n",
       "      <td>1</td>\n",
       "      <td>2</td>\n",
       "      <td>0</td>\n",
       "      <td>1</td>\n",
       "      <td>0</td>\n",
       "      <td>1</td>\n",
       "      <td>0021401221</td>\n",
       "      <td>1.050759</td>\n",
       "      <td>0.604605</td>\n",
       "      <td>0.745394</td>\n",
       "      <td>0.874296</td>\n",
       "      <td>1.202627</td>\n",
       "      <td>1.016725</td>\n",
       "      <td>0021401221</td>\n",
       "      <td>37</td>\n",
       "      <td>42</td>\n",
       "      <td>5.701329</td>\n",
       "      <td>5.796682</td>\n",
       "      <td>0.322038</td>\n",
       "      <td>6045.023742</td>\n",
       "      <td>21669</td>\n",
       "      <td>0.278971</td>\n",
       "      <td>17.315661</td>\n",
       "    </tr>\n",
       "    <tr>\n",
       "      <th>3</th>\n",
       "      <td>203096</td>\n",
       "      <td>Jared Sullinger</td>\n",
       "      <td>0021401221</td>\n",
       "      <td>BOS @ MIL</td>\n",
       "      <td>2015-04-15</td>\n",
       "      <td>28</td>\n",
       "      <td>1</td>\n",
       "      <td>4</td>\n",
       "      <td>5</td>\n",
       "      <td>0</td>\n",
       "      <td>2</td>\n",
       "      <td>14</td>\n",
       "      <td>2</td>\n",
       "      <td>0</td>\n",
       "      <td>4</td>\n",
       "      <td>1</td>\n",
       "      <td>1</td>\n",
       "      <td>3</td>\n",
       "      <td>2</td>\n",
       "      <td>0021401221</td>\n",
       "      <td>1.050759</td>\n",
       "      <td>0.604605</td>\n",
       "      <td>0.745394</td>\n",
       "      <td>0.874296</td>\n",
       "      <td>1.202627</td>\n",
       "      <td>1.016725</td>\n",
       "      <td>0021401221</td>\n",
       "      <td>37</td>\n",
       "      <td>42</td>\n",
       "      <td>5.997121</td>\n",
       "      <td>6.097421</td>\n",
       "      <td>0.217765</td>\n",
       "      <td>6045.023742</td>\n",
       "      <td>21669</td>\n",
       "      <td>0.278971</td>\n",
       "      <td>11.709013</td>\n",
       "    </tr>\n",
       "    <tr>\n",
       "      <th>4</th>\n",
       "      <td>203935</td>\n",
       "      <td>Marcus Smart</td>\n",
       "      <td>0021401221</td>\n",
       "      <td>BOS @ MIL</td>\n",
       "      <td>2015-04-15</td>\n",
       "      <td>24</td>\n",
       "      <td>2</td>\n",
       "      <td>6</td>\n",
       "      <td>2</td>\n",
       "      <td>1</td>\n",
       "      <td>0</td>\n",
       "      <td>5</td>\n",
       "      <td>2</td>\n",
       "      <td>1</td>\n",
       "      <td>4</td>\n",
       "      <td>1</td>\n",
       "      <td>3</td>\n",
       "      <td>1</td>\n",
       "      <td>1</td>\n",
       "      <td>0021401221</td>\n",
       "      <td>1.050759</td>\n",
       "      <td>0.604605</td>\n",
       "      <td>0.745394</td>\n",
       "      <td>0.874296</td>\n",
       "      <td>1.202627</td>\n",
       "      <td>1.016725</td>\n",
       "      <td>0021401221</td>\n",
       "      <td>37</td>\n",
       "      <td>42</td>\n",
       "      <td>12.538511</td>\n",
       "      <td>12.748215</td>\n",
       "      <td>0.531176</td>\n",
       "      <td>6045.023742</td>\n",
       "      <td>21669</td>\n",
       "      <td>0.278971</td>\n",
       "      <td>28.560792</td>\n",
       "    </tr>\n",
       "  </tbody>\n",
       "</table>\n",
       "</div>"
      ],
      "text/plain": [
       "   Player_ID DISPLAY_FIRST_LAST     Game_ID    MATCHUP  GAME_DATE  MIN  FG3M  \\\n",
       "0     203092       Tyler Zeller  0021401221  BOS @ MIL 2015-04-15   14     0   \n",
       "1     203923        James Young  0021401221  BOS @ MIL 2015-04-15   24     1   \n",
       "2     202323        Evan Turner  0021401221  BOS @ MIL 2015-04-15   18     0   \n",
       "3     203096    Jared Sullinger  0021401221  BOS @ MIL 2015-04-15   28     1   \n",
       "4     203935       Marcus Smart  0021401221  BOS @ MIL 2015-04-15   24     2   \n",
       "\n",
       "   AST  FGM  FTM  TOV  FGA  FTA  FTM  REB  OREB  STL  BLK  PF     GAME_ID  \\\n",
       "0    1    4    0    0    7    0    0    3     2    0    0   1  0021401221   \n",
       "1    2    3    2    0    7    4    2    1     0    0    0   3  0021401221   \n",
       "2    6    3    1    3    5    2    1    2     0    1    0   1  0021401221   \n",
       "3    4    5    0    2   14    2    0    4     1    1    3   2  0021401221   \n",
       "4    6    2    1    0    5    2    1    4     1    3    1   1  0021401221   \n",
       "\n",
       "        VOP    FACTOR   DRB_PCT    FTM_PF    FTA_PF  PACE_ADJUST  \\\n",
       "0  1.050759  0.604605  0.745394  0.874296  1.202627     1.016725   \n",
       "1  1.050759  0.604605  0.745394  0.874296  1.202627     1.016725   \n",
       "2  1.050759  0.604605  0.745394  0.874296  1.202627     1.016725   \n",
       "3  1.050759  0.604605  0.745394  0.874296  1.202627     1.016725   \n",
       "4  1.050759  0.604605  0.745394  0.874296  1.202627     1.016725   \n",
       "\n",
       "  GAME_ID_TEAM_DAILY  AST_TEAM_DAILY  FGM_TEAM_DAILY       uPER       aPER  \\\n",
       "0         0021401221              37              42   6.289475   6.394665   \n",
       "1         0021401221              37              42   3.828739   3.892773   \n",
       "2         0021401221              37              42   5.701329   5.796682   \n",
       "3         0021401221              37              42   5.997121   6.097421   \n",
       "4         0021401221              37              42  12.538511  12.748215   \n",
       "\n",
       "        PER  PER_CUM_SUM  PER_CUM_COUNT   AVG_PER  HollingerPER  \n",
       "0  0.456762  6045.023742          21669  0.278971     24.559634  \n",
       "1  0.162199  6045.023742          21669  0.278971      8.721275  \n",
       "2  0.322038  6045.023742          21669  0.278971     17.315661  \n",
       "3  0.217765  6045.023742          21669  0.278971     11.709013  \n",
       "4  0.531176  6045.023742          21669  0.278971     28.560792  "
      ]
     },
     "execution_count": 62,
     "metadata": {},
     "output_type": "execute_result"
    }
   ],
   "source": [
    "df_min_filter.head()"
   ]
  },
  {
   "cell_type": "code",
   "execution_count": 58,
   "metadata": {
    "collapsed": false
   },
   "outputs": [],
   "source": [
    "df_min_filter['HollingerPER'] = df_min_filter['PER']*(15/df_min_filter['AVG_PER'])"
   ]
  },
  {
   "cell_type": "code",
   "execution_count": 59,
   "metadata": {
    "collapsed": false,
    "scrolled": false
   },
   "outputs": [
    {
     "data": {
      "text/html": [
       "<div>\n",
       "<table border=\"1\" class=\"dataframe\">\n",
       "  <thead>\n",
       "    <tr style=\"text-align: right;\">\n",
       "      <th></th>\n",
       "      <th>index</th>\n",
       "      <th>DISPLAY_FIRST_LAST</th>\n",
       "      <th>HollingerPER</th>\n",
       "    </tr>\n",
       "  </thead>\n",
       "  <tbody>\n",
       "  </tbody>\n",
       "</table>\n",
       "</div>"
      ],
      "text/plain": [
       "Empty DataFrame\n",
       "Columns: [index, DISPLAY_FIRST_LAST, HollingerPER]\n",
       "Index: []"
      ]
     },
     "execution_count": 59,
     "metadata": {},
     "output_type": "execute_result"
    }
   ],
   "source": [
    "df_min_filter.loc[(df_min_filter.GAME_DATE == '2015-10-27'), ['DISPLAY_FIRST_LAST', 'HollingerPER']].sort_values('HollingerPER', ascending=False).head(15).reset_index()"
   ]
  },
  {
   "cell_type": "code",
   "execution_count": null,
   "metadata": {
    "collapsed": true
   },
   "outputs": [],
   "source": []
  },
  {
   "cell_type": "code",
   "execution_count": 66,
   "metadata": {
    "collapsed": false
   },
   "outputs": [
    {
     "name": "stdout",
     "output_type": "stream",
     "text": [
      "/home/jovyan/work/_Cardinal/analyzing-basketball-data/py-Goldsberry/docs\r\n"
     ]
    }
   ],
   "source": [
    "!pwd"
   ]
  },
  {
   "cell_type": "code",
   "execution_count": 67,
   "metadata": {
    "collapsed": false
   },
   "outputs": [],
   "source": [
    "df_min_filter.to_csv('2014_holligerPER.csv')"
   ]
  },
  {
   "cell_type": "code",
   "execution_count": null,
   "metadata": {
    "collapsed": true
   },
   "outputs": [],
   "source": []
  }
 ],
 "metadata": {
  "kernelspec": {
   "display_name": "Python 2",
   "language": "python",
   "name": "python2"
  },
  "language_info": {
   "codemirror_mode": {
    "name": "ipython",
    "version": 2
   },
   "file_extension": ".py",
   "mimetype": "text/x-python",
   "name": "python",
   "nbconvert_exporter": "python",
   "pygments_lexer": "ipython2",
   "version": "2.7.11"
  }
 },
 "nbformat": 4,
 "nbformat_minor": 0
}
