{
 "cells": [
  {
   "cell_type": "markdown",
   "metadata": {},
   "source": [
    "An Introduction to py-Goldsberry\n",
    "===\n",
    "\n",
    "`py-Goldsberry` is a Python package that makes it easy to interface with the http://stats.nba.com and retrieve the data in a more analyzable format. \n",
    "\n",
    "This is the first in a series of tutorials that walk through the different modules of the packages and how to use each to get different types of data. \n",
    "\n",
    "If you've made it this far, you're probably less interested in reading about the package and more interested in actually using it.\n",
    "\n",
    "##Installation\n",
    "\n",
    "If you don't have the package installed, use `pip` install get the latest version \n",
    "\n",
    "    pip install py-goldsberry\n",
    "    pip install --upgrade py-goldsberry\n",
    "\n",
    "When you have `py-goldsberry` installed, you can load the package and check the version number"
   ]
  },
  {
   "cell_type": "code",
   "execution_count": 2,
   "metadata": {
    "collapsed": false
   },
   "outputs": [
    {
     "data": {
      "text/plain": [
       "'0.6.0'"
      ]
     },
     "execution_count": 2,
     "metadata": {},
     "output_type": "execute_result"
    }
   ],
   "source": [
    "import goldsberry\n",
    "import pandas as pd\n",
    "goldsberry.__version__"
   ]
  },
  {
   "cell_type": "markdown",
   "metadata": {},
   "source": [
    "`py-goldsberry` is designed to work in conjuntion with Pandas. Each function within the package returns data in a format that is easily converted to a Pandas DataFrame.\n",
    "\n",
    "To get started, let's get a list of all of the players who were on an NBA roster during the 2014-15 season"
   ]
  },
  {
   "cell_type": "code",
   "execution_count": 3,
   "metadata": {
    "collapsed": false
   },
   "outputs": [
    {
     "data": {
      "text/html": [
       "<div>\n",
       "<table border=\"1\" class=\"dataframe\">\n",
       "  <thead>\n",
       "    <tr style=\"text-align: right;\">\n",
       "      <th></th>\n",
       "      <th>DISPLAY_LAST_COMMA_FIRST</th>\n",
       "      <th>FROM_YEAR</th>\n",
       "      <th>PERSON_ID</th>\n",
       "      <th>PLAYERCODE</th>\n",
       "      <th>ROSTERSTATUS</th>\n",
       "      <th>TEAM_ABBREVIATION</th>\n",
       "      <th>TEAM_CITY</th>\n",
       "      <th>TEAM_CODE</th>\n",
       "      <th>TEAM_ID</th>\n",
       "      <th>TEAM_NAME</th>\n",
       "      <th>TO_YEAR</th>\n",
       "    </tr>\n",
       "  </thead>\n",
       "  <tbody>\n",
       "    <tr>\n",
       "      <th>0</th>\n",
       "      <td>Acy, Quincy</td>\n",
       "      <td>2012</td>\n",
       "      <td>203112</td>\n",
       "      <td>quincy_acy</td>\n",
       "      <td>1</td>\n",
       "      <td>NYK</td>\n",
       "      <td>New York</td>\n",
       "      <td>knicks</td>\n",
       "      <td>1610612752</td>\n",
       "      <td>Knicks</td>\n",
       "      <td>2015</td>\n",
       "    </tr>\n",
       "    <tr>\n",
       "      <th>1</th>\n",
       "      <td>Adams, Jordan</td>\n",
       "      <td>2014</td>\n",
       "      <td>203919</td>\n",
       "      <td>jordan_adams</td>\n",
       "      <td>1</td>\n",
       "      <td>MEM</td>\n",
       "      <td>Memphis</td>\n",
       "      <td>grizzlies</td>\n",
       "      <td>1610612763</td>\n",
       "      <td>Grizzlies</td>\n",
       "      <td>2015</td>\n",
       "    </tr>\n",
       "    <tr>\n",
       "      <th>2</th>\n",
       "      <td>Adams, Steven</td>\n",
       "      <td>2013</td>\n",
       "      <td>203500</td>\n",
       "      <td>steven_adams</td>\n",
       "      <td>1</td>\n",
       "      <td>OKC</td>\n",
       "      <td>Oklahoma City</td>\n",
       "      <td>thunder</td>\n",
       "      <td>1610612760</td>\n",
       "      <td>Thunder</td>\n",
       "      <td>2015</td>\n",
       "    </tr>\n",
       "    <tr>\n",
       "      <th>3</th>\n",
       "      <td>Adrien, Jeff</td>\n",
       "      <td>2010</td>\n",
       "      <td>202399</td>\n",
       "      <td>jeff_adrien</td>\n",
       "      <td>0</td>\n",
       "      <td></td>\n",
       "      <td></td>\n",
       "      <td></td>\n",
       "      <td>0</td>\n",
       "      <td></td>\n",
       "      <td>2014</td>\n",
       "    </tr>\n",
       "    <tr>\n",
       "      <th>4</th>\n",
       "      <td>Afflalo, Arron</td>\n",
       "      <td>2007</td>\n",
       "      <td>201167</td>\n",
       "      <td>arron_afflalo</td>\n",
       "      <td>1</td>\n",
       "      <td>POR</td>\n",
       "      <td>Portland</td>\n",
       "      <td>blazers</td>\n",
       "      <td>1610612757</td>\n",
       "      <td>Trail Blazers</td>\n",
       "      <td>2015</td>\n",
       "    </tr>\n",
       "  </tbody>\n",
       "</table>\n",
       "</div>"
      ],
      "text/plain": [
       "  DISPLAY_LAST_COMMA_FIRST FROM_YEAR  PERSON_ID     PLAYERCODE  ROSTERSTATUS  \\\n",
       "0              Acy, Quincy      2012     203112     quincy_acy             1   \n",
       "1            Adams, Jordan      2014     203919   jordan_adams             1   \n",
       "2            Adams, Steven      2013     203500   steven_adams             1   \n",
       "3             Adrien, Jeff      2010     202399    jeff_adrien             0   \n",
       "4           Afflalo, Arron      2007     201167  arron_afflalo             1   \n",
       "\n",
       "  TEAM_ABBREVIATION      TEAM_CITY  TEAM_CODE     TEAM_ID      TEAM_NAME  \\\n",
       "0               NYK       New York     knicks  1610612752         Knicks   \n",
       "1               MEM        Memphis  grizzlies  1610612763      Grizzlies   \n",
       "2               OKC  Oklahoma City    thunder  1610612760        Thunder   \n",
       "3                                                       0                  \n",
       "4               POR       Portland    blazers  1610612757  Trail Blazers   \n",
       "\n",
       "  TO_YEAR  \n",
       "0    2015  \n",
       "1    2015  \n",
       "2    2015  \n",
       "3    2014  \n",
       "4    2015  "
      ]
     },
     "execution_count": 3,
     "metadata": {},
     "output_type": "execute_result"
    }
   ],
   "source": [
    "players2014 = goldsberry.PlayerList(2014)\n",
    "players2014 = pd.DataFrame(players2014)\n",
    "players2014.head()"
   ]
  },
  {
   "cell_type": "code",
   "execution_count": null,
   "metadata": {
    "collapsed": true
   },
   "outputs": [],
   "source": []
  }
 ],
 "metadata": {
  "kernelspec": {
   "display_name": "Python 2",
   "language": "python",
   "name": "python2"
  },
  "language_info": {
   "codemirror_mode": {
    "name": "ipython",
    "version": 2
   },
   "file_extension": ".py",
   "mimetype": "text/x-python",
   "name": "python",
   "nbconvert_exporter": "python",
   "pygments_lexer": "ipython2",
   "version": "2.7.10"
  }
 },
 "nbformat": 4,
 "nbformat_minor": 0
}
